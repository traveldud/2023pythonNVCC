{
 "cells": [
  {
   "cell_type": "markdown",
   "id": "116b15dd",
   "metadata": {},
   "source": [
    "### Sequential Data Types\n",
    "Python provide the following type of Sequential Data Types: \n",
    "* strings\n",
    "* lists\n",
    "* tuples\n",
    "* range objects\n",
    "\n"
   ]
  },
  {
   "cell_type": "code",
   "execution_count": 6,
   "id": "dbb5d51e",
   "metadata": {},
   "outputs": [
    {
     "name": "stdout",
     "output_type": "stream",
     "text": [
      "L S !\n"
     ]
    }
   ],
   "source": [
    "text = \"Lists and Strings and can be accessed via indices!\"\n",
    "print(text[0], text[10], text[-1])\n"
   ]
  },
  {
   "cell_type": "markdown",
   "id": "88969fdb",
   "metadata": {},
   "source": [
    "### Lists\n",
    "Lists are identified by [].  Any value inside a square bracket is called a list"
   ]
  },
  {
   "cell_type": "code",
   "execution_count": 5,
   "id": "58d32f5e",
   "metadata": {},
   "outputs": [],
   "source": [
    "cities = [\"Vienna\", \"london\", \"paris\", \"Berlin\", \"Zurich\", \"Hamburg\"]\n",
    "# Accessing elemets in a list"
   ]
  },
  {
   "cell_type": "code",
   "execution_count": 12,
   "id": "0d01558b",
   "metadata": {},
   "outputs": [
    {
     "data": {
      "text/plain": [
       "'Zurich'"
      ]
     },
     "execution_count": 12,
     "metadata": {},
     "output_type": "execute_result"
    }
   ],
   "source": [
    "cities[-2].title()"
   ]
  },
  {
   "cell_type": "code",
   "execution_count": 11,
   "id": "2f78d3e0",
   "metadata": {},
   "outputs": [
    {
     "data": {
      "text/plain": [
       "'Hamburg'"
      ]
     },
     "execution_count": 11,
     "metadata": {},
     "output_type": "execute_result"
    }
   ],
   "source": [
    "cities[-1]"
   ]
  },
  {
   "cell_type": "code",
   "execution_count": 8,
   "id": "b05e4e2e",
   "metadata": {},
   "outputs": [],
   "source": [
    "fruits = ['apples','oranges','blueberries','pineapple','watermelon']"
   ]
  },
  {
   "cell_type": "code",
   "execution_count": 10,
   "id": "dd0fb576",
   "metadata": {},
   "outputs": [
    {
     "data": {
      "text/plain": [
       "5"
      ]
     },
     "execution_count": 10,
     "metadata": {},
     "output_type": "execute_result"
    }
   ],
   "source": [
    "len(fruits)"
   ]
  },
  {
   "cell_type": "code",
   "execution_count": 20,
   "id": "ed478e9a",
   "metadata": {},
   "outputs": [
    {
     "data": {
      "text/plain": [
       "'apples'"
      ]
     },
     "execution_count": 20,
     "metadata": {},
     "output_type": "execute_result"
    }
   ],
   "source": [
    "fruits[0]"
   ]
  },
  {
   "cell_type": "code",
   "execution_count": 13,
   "id": "f7ce187d",
   "metadata": {},
   "outputs": [
    {
     "data": {
      "text/plain": [
       "'a'"
      ]
     },
     "execution_count": 13,
     "metadata": {},
     "output_type": "execute_result"
    }
   ],
   "source": [
    "fruits[0][0]"
   ]
  },
  {
   "cell_type": "code",
   "execution_count": 21,
   "id": "4d18c940",
   "metadata": {},
   "outputs": [
    {
     "data": {
      "text/plain": [
       "'s'"
      ]
     },
     "execution_count": 21,
     "metadata": {},
     "output_type": "execute_result"
    }
   ],
   "source": [
    "fruits[0][-1]"
   ]
  },
  {
   "cell_type": "code",
   "execution_count": 19,
   "id": "c3ad916d",
   "metadata": {},
   "outputs": [
    {
     "data": {
      "text/plain": [
       "'watermelon'"
      ]
     },
     "execution_count": 19,
     "metadata": {},
     "output_type": "execute_result"
    }
   ],
   "source": [
    "fruits[-1]"
   ]
  },
  {
   "cell_type": "code",
   "execution_count": 18,
   "id": "ee31e913",
   "metadata": {},
   "outputs": [
    {
     "data": {
      "text/plain": [
       "'w'"
      ]
     },
     "execution_count": 18,
     "metadata": {},
     "output_type": "execute_result"
    }
   ],
   "source": [
    "fruits[-1][0]"
   ]
  },
  {
   "cell_type": "code",
   "execution_count": 26,
   "id": "998eefe3",
   "metadata": {},
   "outputs": [],
   "source": [
    "fib = [1, 1, 2, 3, 5, 8, 13, 21, 34, 55]#zero not included in computers??"
   ]
  },
  {
   "cell_type": "code",
   "execution_count": 27,
   "id": "a7e0875d",
   "metadata": {},
   "outputs": [
    {
     "data": {
      "text/plain": [
       "10"
      ]
     },
     "execution_count": 27,
     "metadata": {},
     "output_type": "execute_result"
    }
   ],
   "source": [
    "len(fib)"
   ]
  },
  {
   "cell_type": "markdown",
   "id": "1f1e5395",
   "metadata": {},
   "source": [
    "### Python Lists\n",
    "List is a collection of identical objects.  Python lists is an ordered group of elements or items.\n",
    "It's imiportant to note that these list of elements don't have to be of the same type.  It can be arbitrary mixture of elements\n",
    "#### The main properties of Python lists are:\n",
    "* They are ordered\n",
    "* They contain arbitrary objects\n",
    "* Elements of a list can be accessesd by an index\n",
    "* They are nestable, i.e., can contain other lists as sublists\n",
    "* They are mutable, i.e., The elements of a list can be changed\n"
   ]
  },
  {
   "cell_type": "code",
   "execution_count": 30,
   "id": "07642c87",
   "metadata": {},
   "outputs": [
    {
     "name": "stdout",
     "output_type": "stream",
     "text": [
      "python and care quiete different!\n"
     ]
    }
   ],
   "source": [
    "programmingLanguages = [\"python\", \"c\", \"c++\", \"java\", \"perl\"]\n",
    "print(programmingLanguages[0] + \" and \" + programmingLanguages[1] + \"are quiet different!\")"
   ]
  },
  {
   "cell_type": "markdown",
   "id": "ccbfc2d7",
   "metadata": {},
   "source": [
    "#### Sublists\n",
    "Lists can have sublists as elements.   These sublists may contain sublists as well.\n",
    "* below is an example is a \"hybrid list\""
   ]
  },
  {
   "cell_type": "code",
   "execution_count": 35,
   "id": "1a4e03ea",
   "metadata": {},
   "outputs": [],
   "source": [
    "person =[[\"marc\",\"mayer\"],#person list first entry\n",
    "        [\"17 oxford street\", 12345, \"london\"],#second list entry which is a list\n",
    "         '07876-7876']#third is just a value and the third value"
   ]
  },
  {
   "cell_type": "code",
   "execution_count": 37,
   "id": "771c2b7f",
   "metadata": {},
   "outputs": [
    {
     "data": {
      "text/plain": [
       "['17 oxford street', 12345, 'london']"
      ]
     },
     "execution_count": 37,
     "metadata": {},
     "output_type": "execute_result"
    }
   ],
   "source": [
    "person[1]"
   ]
  },
  {
   "cell_type": "code",
   "execution_count": 38,
   "id": "2ef24d5f",
   "metadata": {},
   "outputs": [
    {
     "data": {
      "text/plain": [
       "['marc', 'mayer']"
      ]
     },
     "execution_count": 38,
     "metadata": {},
     "output_type": "execute_result"
    }
   ],
   "source": [
    "person[0]"
   ]
  },
  {
   "cell_type": "code",
   "execution_count": 39,
   "id": "69f98a3f",
   "metadata": {},
   "outputs": [
    {
     "data": {
      "text/plain": [
       "'07876-7876'"
      ]
     },
     "execution_count": 39,
     "metadata": {},
     "output_type": "execute_result"
    }
   ],
   "source": [
    "person[2]"
   ]
  },
  {
   "cell_type": "code",
   "execution_count": 48,
   "id": "7bf9c9d1",
   "metadata": {},
   "outputs": [
    {
     "data": {
      "text/plain": [
       "'mayer'"
      ]
     },
     "execution_count": 48,
     "metadata": {},
     "output_type": "execute_result"
    }
   ],
   "source": [
    "person[0][1]"
   ]
  },
  {
   "cell_type": "code",
   "execution_count": 49,
   "id": "91a38386",
   "metadata": {},
   "outputs": [
    {
     "data": {
      "text/plain": [
       "'a'"
      ]
     },
     "execution_count": 49,
     "metadata": {},
     "output_type": "execute_result"
    }
   ],
   "source": [
    "person[0][1][1]"
   ]
  },
  {
   "cell_type": "code",
   "execution_count": 50,
   "id": "79feaa1b",
   "metadata": {},
   "outputs": [
    {
     "data": {
      "text/plain": [
       "(['marc', 'mayer'], [1])"
      ]
     },
     "execution_count": 50,
     "metadata": {},
     "output_type": "execute_result"
    }
   ],
   "source": [
    "person[0],[1]# this is junk...coincidentally has a value"
   ]
  },
  {
   "cell_type": "code",
   "execution_count": 51,
   "id": "a8cbbdf8",
   "metadata": {},
   "outputs": [
    {
     "data": {
      "text/plain": [
       "3"
      ]
     },
     "execution_count": 51,
     "metadata": {},
     "output_type": "execute_result"
    }
   ],
   "source": [
    "len(person) "
   ]
  },
  {
   "cell_type": "code",
   "execution_count": 52,
   "id": "709299b5",
   "metadata": {},
   "outputs": [
    {
     "data": {
      "text/plain": [
       "2"
      ]
     },
     "execution_count": 52,
     "metadata": {},
     "output_type": "execute_result"
    }
   ],
   "source": [
    "len(person[0])"
   ]
  },
  {
   "cell_type": "markdown",
   "id": "386636a2",
   "metadata": {},
   "source": [
    "### complex list"
   ]
  },
  {
   "cell_type": "code",
   "execution_count": 53,
   "id": "3d3127ed",
   "metadata": {},
   "outputs": [],
   "source": [
    "complex_list = [[\"a\",[\"b\",[\"c\",\"x\"]]],42]\n"
   ]
  },
  {
   "cell_type": "code",
   "execution_count": 60,
   "id": "1a20cb0e",
   "metadata": {},
   "outputs": [],
   "source": [
    "#print b,c and x"
   ]
  },
  {
   "cell_type": "code",
   "execution_count": 63,
   "id": "698e5502",
   "metadata": {},
   "outputs": [
    {
     "data": {
      "text/plain": [
       "['b', ['c', 'x']]"
      ]
     },
     "execution_count": 63,
     "metadata": {},
     "output_type": "execute_result"
    }
   ],
   "source": [
    "complex_list[0][1]"
   ]
  },
  {
   "cell_type": "code",
   "execution_count": 67,
   "id": "941fb8d1",
   "metadata": {},
   "outputs": [
    {
     "data": {
      "text/plain": [
       "['a', ['b', ['c', 'x']]]"
      ]
     },
     "execution_count": 67,
     "metadata": {},
     "output_type": "execute_result"
    }
   ],
   "source": [
    "complex_list[0]"
   ]
  },
  {
   "cell_type": "code",
   "execution_count": 61,
   "id": "c273f04b",
   "metadata": {},
   "outputs": [],
   "source": [
    "#print c"
   ]
  },
  {
   "cell_type": "code",
   "execution_count": 66,
   "id": "124554d8",
   "metadata": {},
   "outputs": [
    {
     "data": {
      "text/plain": [
       "'c'"
      ]
     },
     "execution_count": 66,
     "metadata": {},
     "output_type": "execute_result"
    }
   ],
   "source": [
    "complex_list[0][1][1][0]"
   ]
  },
  {
   "cell_type": "code",
   "execution_count": 8,
   "id": "4b4937f8",
   "metadata": {},
   "outputs": [
    {
     "data": {
      "text/plain": [
       "'b'"
      ]
     },
     "execution_count": 8,
     "metadata": {},
     "output_type": "execute_result"
    }
   ],
   "source": [
    "complex_list = [[\"a\",[\"b\",[\"c\",\"x\"]]],42]\n",
    "complex_list[0][1][0]"
   ]
  },
  {
   "cell_type": "markdown",
   "id": "808b0bee",
   "metadata": {},
   "source": [
    "## Tuple\n",
    "A tuple is an immutable list.  It cannot be changed in a ny way once it has been created.\n",
    "Features of a Tuple List:\n",
    "*  Tuples are faster lists\n",
    "*  If you know that some data doesn't have to be changed, you should use Tuple instead of lists, because this protects your data against accidental changes.\n",
    "*  ***always consider the type of data to chose the storage/coding mechanism***\n",
    "*  It is designated as \"()\" vs. \"[]\" for lists, e.g. fruit = ('apple') vs fruit = ['apple']"
   ]
  },
  {
   "cell_type": "code",
   "execution_count": 9,
   "id": "e42c997c",
   "metadata": {},
   "outputs": [
    {
     "data": {
      "text/plain": [
       "'tuples'"
      ]
     },
     "execution_count": 9,
     "metadata": {},
     "output_type": "execute_result"
    }
   ],
   "source": [
    "tList = (\"tuples\", \"are\", \"immutable\")\n",
    "tList[0]\n"
   ]
  },
  {
   "cell_type": "code",
   "execution_count": 10,
   "id": "a47fd7a4",
   "metadata": {},
   "outputs": [
    {
     "ename": "IndexError",
     "evalue": "tuple index out of range",
     "output_type": "error",
     "traceback": [
      "\u001b[1;31m---------------------------------------------------------------------------\u001b[0m",
      "\u001b[1;31mIndexError\u001b[0m                                Traceback (most recent call last)",
      "Cell \u001b[1;32mIn[10], line 1\u001b[0m\n\u001b[1;32m----> 1\u001b[0m tList[\u001b[38;5;241m10\u001b[39m]\n",
      "\u001b[1;31mIndexError\u001b[0m: tuple index out of range"
     ]
    }
   ],
   "source": [
    "tList[10]"
   ]
  },
  {
   "cell_type": "code",
   "execution_count": 11,
   "id": "3e7cc5e1",
   "metadata": {},
   "outputs": [
    {
     "ename": "TypeError",
     "evalue": "'tuple' object does not support item assignment",
     "output_type": "error",
     "traceback": [
      "\u001b[1;31m---------------------------------------------------------------------------\u001b[0m",
      "\u001b[1;31mTypeError\u001b[0m                                 Traceback (most recent call last)",
      "Cell \u001b[1;32mIn[11], line 1\u001b[0m\n\u001b[1;32m----> 1\u001b[0m tList[\u001b[38;5;241m0\u001b[39m] \u001b[38;5;241m=\u001b[39m \u001b[38;5;124m\"\u001b[39m\u001b[38;5;124massignments to elements are not possible\u001b[39m\u001b[38;5;124m\"\u001b[39m\n",
      "\u001b[1;31mTypeError\u001b[0m: 'tuple' object does not support item assignment"
     ]
    }
   ],
   "source": [
    "tList[0] = \"assignments to elements are not possible\""
   ]
  },
  {
   "cell_type": "markdown",
   "id": "e202b883",
   "metadata": {},
   "source": [
    "## Create a unique Tuple List of your choice"
   ]
  },
  {
   "cell_type": "code",
   "execution_count": 12,
   "id": "fa3f76ce",
   "metadata": {},
   "outputs": [],
   "source": [
    "tHardware = ('screw','nut','washer','bolt','hook')"
   ]
  },
  {
   "cell_type": "code",
   "execution_count": 13,
   "id": "da197eb6",
   "metadata": {},
   "outputs": [
    {
     "data": {
      "text/plain": [
       "('screw', 'nut', 'washer', 'bolt', 'hook')"
      ]
     },
     "execution_count": 13,
     "metadata": {},
     "output_type": "execute_result"
    }
   ],
   "source": [
    "tHardware"
   ]
  },
  {
   "cell_type": "code",
   "execution_count": 14,
   "id": "0587e62e",
   "metadata": {},
   "outputs": [],
   "source": [
    "colorList = [(\"red\", 255,0,0), (\"white\", 255,255,255), (\"blue\", 0, 0, 255)]"
   ]
  },
  {
   "cell_type": "code",
   "execution_count": 15,
   "id": "de1be2fe",
   "metadata": {},
   "outputs": [
    {
     "data": {
      "text/plain": [
       "[('red', 255, 0, 0), ('white', 255, 255, 255), ('blue', 0, 0, 255)]"
      ]
     },
     "execution_count": 15,
     "metadata": {},
     "output_type": "execute_result"
    }
   ],
   "source": [
    "colorList"
   ]
  },
  {
   "cell_type": "markdown",
   "id": "ca4a664f",
   "metadata": {},
   "source": [
    "### a mutable list with immutable tuples, i.e., you can add, remove tuples (which you can't change) to the list"
   ]
  },
  {
   "cell_type": "code",
   "execution_count": 18,
   "id": "c7206b23",
   "metadata": {},
   "outputs": [],
   "source": [
    "colorList =  [(\"white\", 255,255,255), (\"blue\", 0, 0, 255)]\n"
   ]
  },
  {
   "cell_type": "code",
   "execution_count": 19,
   "id": "de94e8b3",
   "metadata": {},
   "outputs": [
    {
     "data": {
      "text/plain": [
       "[('white', 255, 255, 255), ('blue', 0, 0, 255)]"
      ]
     },
     "execution_count": 19,
     "metadata": {},
     "output_type": "execute_result"
    }
   ],
   "source": [
    "colorList"
   ]
  },
  {
   "cell_type": "code",
   "execution_count": null,
   "id": "2839cce5",
   "metadata": {},
   "outputs": [],
   "source": [
    "\n"
   ]
  },
  {
   "cell_type": "markdown",
   "id": "3bcc48e2",
   "metadata": {},
   "source": [
    "### there is not list comparison for defined data - note 'red'"
   ]
  },
  {
   "cell_type": "code",
   "execution_count": 20,
   "id": "e2f7920f",
   "metadata": {},
   "outputs": [],
   "source": [
    "colorList = [(\"red\", 255,0,0), (\"white\", 255,255,255), (\"red\", 0, 0, 255)]"
   ]
  },
  {
   "cell_type": "code",
   "execution_count": 21,
   "id": "49ed7455",
   "metadata": {},
   "outputs": [
    {
     "data": {
      "text/plain": [
       "[('red', 255, 0, 0), ('white', 255, 255, 255), ('red', 0, 0, 255)]"
      ]
     },
     "execution_count": 21,
     "metadata": {},
     "output_type": "execute_result"
    }
   ],
   "source": [
    "colorList"
   ]
  },
  {
   "cell_type": "code",
   "execution_count": 22,
   "id": "461ba369",
   "metadata": {},
   "outputs": [
    {
     "data": {
      "text/plain": [
       "('red', 255, 0, 0)"
      ]
     },
     "execution_count": 22,
     "metadata": {},
     "output_type": "execute_result"
    }
   ],
   "source": [
    "colorList[0]"
   ]
  },
  {
   "cell_type": "code",
   "execution_count": 23,
   "id": "2c1e6e4b",
   "metadata": {},
   "outputs": [
    {
     "data": {
      "text/plain": [
       "0"
      ]
     },
     "execution_count": 23,
     "metadata": {},
     "output_type": "execute_result"
    }
   ],
   "source": [
    "colorList[0][3]"
   ]
  },
  {
   "cell_type": "markdown",
   "id": "b970a588",
   "metadata": {},
   "source": [
    "### can change the list, but not the tuple"
   ]
  },
  {
   "cell_type": "code",
   "execution_count": null,
   "id": "83e8bfe2",
   "metadata": {},
   "outputs": [],
   "source": [
    "colorList[0][1] = 0"
   ]
  },
  {
   "cell_type": "code",
   "execution_count": 26,
   "id": "82aad582",
   "metadata": {},
   "outputs": [],
   "source": [
    "colorList[0] = ('Blue', '0','255','255')"
   ]
  },
  {
   "cell_type": "code",
   "execution_count": 27,
   "id": "3391044a",
   "metadata": {},
   "outputs": [
    {
     "data": {
      "text/plain": [
       "[('Blue', '0', '255', '255'), ('white', 255, 255, 255), ('red', 0, 0, 255)]"
      ]
     },
     "execution_count": 27,
     "metadata": {},
     "output_type": "execute_result"
    }
   ],
   "source": [
    "colorList"
   ]
  },
  {
   "cell_type": "code",
   "execution_count": 28,
   "id": "22b5662a",
   "metadata": {},
   "outputs": [
    {
     "ename": "TypeError",
     "evalue": "'tuple' object does not support item assignment",
     "output_type": "error",
     "traceback": [
      "\u001b[1;31m---------------------------------------------------------------------------\u001b[0m",
      "\u001b[1;31mTypeError\u001b[0m                                 Traceback (most recent call last)",
      "Cell \u001b[1;32mIn[28], line 1\u001b[0m\n\u001b[1;32m----> 1\u001b[0m colorList[\u001b[38;5;241m0\u001b[39m][\u001b[38;5;241m1\u001b[39m] \u001b[38;5;241m=\u001b[39m \u001b[38;5;241m0\u001b[39m\n",
      "\u001b[1;31mTypeError\u001b[0m: 'tuple' object does not support item assignment"
     ]
    }
   ],
   "source": [
    "colorList[0][1] = 0"
   ]
  },
  {
   "cell_type": "markdown",
   "id": "57869832",
   "metadata": {},
   "source": [
    "### using type() again to identify the variable"
   ]
  },
  {
   "cell_type": "code",
   "execution_count": 24,
   "id": "e34cb548",
   "metadata": {},
   "outputs": [
    {
     "data": {
      "text/plain": [
       "list"
      ]
     },
     "execution_count": 24,
     "metadata": {},
     "output_type": "execute_result"
    }
   ],
   "source": [
    "type(colorList)"
   ]
  },
  {
   "cell_type": "code",
   "execution_count": 25,
   "id": "95e5f92d",
   "metadata": {},
   "outputs": [
    {
     "data": {
      "text/plain": [
       "tuple"
      ]
     },
     "execution_count": 25,
     "metadata": {},
     "output_type": "execute_result"
    }
   ],
   "source": [
    "type(colorList[0])"
   ]
  },
  {
   "cell_type": "markdown",
   "id": "25a1452f",
   "metadata": {},
   "source": [
    "## Dictionaries\n",
    "A sequential data set that can be represented by a key:value pair\n",
    "* \"key\" is always unique, \"value\" can be anything"
   ]
  },
  {
   "cell_type": "code",
   "execution_count": 3,
   "id": "e6ae84eb",
   "metadata": {},
   "outputs": [],
   "source": [
    "city_population = {\"new york\": 8_558_000, #Underscore is disregarded in use of the number\n",
    "                  \"lost angeles\": 3_971_000,\n",
    "                  \"Toronto\": 2_731_000,\n",
    "                  \"Houston\": 2_229_000\n",
    "                  }"
   ]
  },
  {
   "cell_type": "markdown",
   "id": "657ee0ac",
   "metadata": {},
   "source": [
    "### recall data using the key"
   ]
  },
  {
   "cell_type": "code",
   "execution_count": 2,
   "id": "ca3b8e13",
   "metadata": {},
   "outputs": [
    {
     "data": {
      "text/plain": [
       "8558000"
      ]
     },
     "execution_count": 2,
     "metadata": {},
     "output_type": "execute_result"
    }
   ],
   "source": [
    "city_population[\"new york\"]"
   ]
  },
  {
   "cell_type": "code",
   "execution_count": 4,
   "id": "94b7c8b6",
   "metadata": {},
   "outputs": [
    {
     "ename": "KeyError",
     "evalue": "'detroit'",
     "output_type": "error",
     "traceback": [
      "\u001b[1;31m---------------------------------------------------------------------------\u001b[0m",
      "\u001b[1;31mKeyError\u001b[0m                                  Traceback (most recent call last)",
      "Cell \u001b[1;32mIn[4], line 1\u001b[0m\n\u001b[1;32m----> 1\u001b[0m city_population[\u001b[38;5;124m\"\u001b[39m\u001b[38;5;124mdetroit\u001b[39m\u001b[38;5;124m\"\u001b[39m]\n",
      "\u001b[1;31mKeyError\u001b[0m: 'detroit'"
     ]
    }
   ],
   "source": [
    "city_population[\"detroit\"]"
   ]
  },
  {
   "cell_type": "code",
   "execution_count": 6,
   "id": "d6e1c82e",
   "metadata": {},
   "outputs": [],
   "source": [
    "timesOfTheDay = {'early morning':'5-7',\n",
    "                 'mid morning':'7-10',\n",
    "                 'late morning':'10-11',\n",
    "                 'midday':'12',\n",
    "                 'afternoon':'12-3',\n",
    "                 'late afternoon':'3-6',\n",
    "                 'early evening':'7-8'\n",
    "                }"
   ]
  },
  {
   "cell_type": "code",
   "execution_count": 7,
   "id": "8e506a94",
   "metadata": {},
   "outputs": [
    {
     "data": {
      "text/plain": [
       "'12'"
      ]
     },
     "execution_count": 7,
     "metadata": {},
     "output_type": "execute_result"
    }
   ],
   "source": [
    "timesOfTheDay['midday']"
   ]
  },
  {
   "cell_type": "code",
   "execution_count": 8,
   "id": "3df5b5e5",
   "metadata": {},
   "outputs": [],
   "source": [
    "en_de = {\"red\":\"rot\", \"green\":\"grun\",\"blue\":\"blau\", \"Yello\":\"gelb\"}"
   ]
  },
  {
   "cell_type": "code",
   "execution_count": 9,
   "id": "c2d32089",
   "metadata": {},
   "outputs": [
    {
     "data": {
      "text/plain": [
       "'rot'"
      ]
     },
     "execution_count": 9,
     "metadata": {},
     "output_type": "execute_result"
    }
   ],
   "source": [
    "en_de['red']"
   ]
  },
  {
   "cell_type": "markdown",
   "id": "0c98b0e4",
   "metadata": {},
   "source": [
    "### Problem Statement\n",
    "Read three float numbers using input function and print out the largest number of the 3 input values\n"
   ]
  },
  {
   "cell_type": "code",
   "execution_count": 16,
   "id": "1a92c04e",
   "metadata": {},
   "outputs": [
    {
     "name": "stdout",
     "output_type": "stream",
     "text": [
      "1st Number? 4\n",
      "2nd Number? 3\n",
      "3rd Number? 7\n",
      "7.0 is the largest number of x, y and z\n",
      "The maximal value is:  7.0\n"
     ]
    }
   ],
   "source": [
    "x = float(input(\"1st Number? \"))\n",
    "y = float(input(\"2nd Number? \"))\n",
    "z = float(input(\"3rd Number? \"))\n",
    "\n",
    "if x > y and x > z:\n",
    "    maximum = x\n",
    "elif y>x and y>z:\n",
    "    maximum = y\n",
    "else:\n",
    "    maximum = z\n",
    "        \n",
    "print(maximum,\"is the largest number of x, y and z\")\n",
    "print(\"The maximal value is: \",str(maximum))\n"
   ]
  },
  {
   "cell_type": "code",
   "execution_count": 17,
   "id": "99f9b8e3",
   "metadata": {},
   "outputs": [
    {
     "name": "stdout",
     "output_type": "stream",
     "text": [
      "1st Number? 3\n",
      "2nd Number? 4\n",
      "3rd Number? 2\n",
      "the maximalvalue is:   4.0\n"
     ]
    }
   ],
   "source": [
    "## Another approach to use the if condition for the above\n",
    "x = float(input(\"1st Number? \"))\n",
    "y = float(input(\"2nd Number? \"))\n",
    "z = float(input(\"3rd Number? \"))\n",
    "\n",
    "if (x>y):\n",
    "    if(x>z):\n",
    "        maximum = x\n",
    "else:\n",
    "    if (y>z):\n",
    "        maximum = y\n",
    "    else:\n",
    "        maximum = z\n",
    "        \n",
    "print(\"the maximalvalue is:  \", str(maximum))"
   ]
  },
  {
   "cell_type": "markdown",
   "id": "b1c84a14",
   "metadata": {},
   "source": [
    "### Ternery if statement\n"
   ]
  },
  {
   "cell_type": "code",
   "execution_count": 26,
   "id": "ca2559a4",
   "metadata": {},
   "outputs": [
    {
     "name": "stdout",
     "output_type": "stream",
     "text": [
      "50\n"
     ]
    }
   ],
   "source": [
    "# The maximum speed is 50 fi within the city, else it's 100\n",
    "inside_city_limits = True\n",
    "#maximum_speed = 50 if inside_city_limits else 100 #returns \"True\" or \"False\"\n",
    "#maximum_speed\n",
    "minimum_speed = 50\n",
    "maximum_speed = 100\n",
    "print(minimum_speed if inside_city_limits else maximum_speed)\n",
    "#another way to write the above\n"
   ]
  },
  {
   "cell_type": "code",
   "execution_count": 21,
   "id": "a8864e05",
   "metadata": {},
   "outputs": [
    {
     "name": "stdout",
     "output_type": "stream",
     "text": [
      "Maximum speed is  100\n"
     ]
    }
   ],
   "source": [
    "inside_city_limits = False\n",
    "if inside_city_limits:\n",
    "    maximum_speed = 50\n",
    "else:\n",
    "    maximum_speed = 100\n",
    "    \n",
    "print(\"Maximum speed is \", maximum_speed)"
   ]
  },
  {
   "cell_type": "code",
   "execution_count": 36,
   "id": "b8655bc4",
   "metadata": {},
   "outputs": [
    {
     "name": "stdout",
     "output_type": "stream",
     "text": [
      "Enter your age: 67\n",
      "Enter the movie time (24 hour format, e.g., 15:30)13:30\n",
      "Ticket price is  $5.00\n"
     ]
    }
   ],
   "source": [
    "#Step 1: As the unser to enter their age\n",
    "age = int(input(\"Enter your age: \"))\n",
    "#Step 2:  Ask teh user to enter teh time of the movie\n",
    "showTime = input(\"Enter the movie time (24 hour format, e.g., 15:30)\")\n",
    "\n",
    "#Step 3:  Calculatge the ticket price base on age and showtime\n",
    "if age <= 12 or age >= 65:\n",
    "    discount_price = 0.5 #50% discount applied for child and senior citizens\n",
    "else:\n",
    "    # convert show time to an integer\n",
    "    discount_price = 1\n",
    "    \n",
    "showTime = int(showTime.replace(\":\",\"\"))\n",
    " \n",
    "age     \n",
    "#if showTime <= 1700:\n",
    "#    ticket_price = 10.00*discount_price  #Movie ticket price before or by 5pm\n",
    "#else:\n",
    "#    ticket_price = 13.00*discount_price # Movie after 5:00 PM\n",
    "\n",
    "#Step 4:  Print the ticket price\n",
    "print(\"Ticket price is  ${:.2f}\".format(ticket_price))"
   ]
  },
  {
   "cell_type": "code",
   "execution_count": 38,
   "id": "66703800",
   "metadata": {},
   "outputs": [
    {
     "name": "stdout",
     "output_type": "stream",
     "text": [
      "Enter your age: 50\n",
      "Enter the movie time (24 hour format, e.g., 15:30)17:30\n",
      "Ticket price is  $13.00\n"
     ]
    }
   ],
   "source": [
    "#Step 1: As the unser to enter their age\n",
    "age = int(input(\"Enter your age: \"))\n",
    "#Step 2:  Ask teh user to enter teh time of the movie\n",
    "showTime = input(\"Enter the movie time (24 hour format, e.g., 15:30)\")\n",
    "\n",
    "#Step 3:  Calculatge the ticket price base on age and showtime\n",
    "if age <= 12:\n",
    "    discount_price = 0.5 #50% discount applied for child\n",
    "elif age >= 65:\n",
    "    discount_price = 0.4 #60% discount for seniors\n",
    "else:\n",
    "    # convert show time to an integer\n",
    "    discount_price = 1\n",
    "    \n",
    "showTime = int(showTime.replace(\":\",\"\"))\n",
    " \n",
    "if showTime <= 1700:\n",
    "    ticket_price = 10.00*discount_price  #Movie ticket price before or by 5pm\n",
    "else:\n",
    "    ticket_price = 13.00*discount_price # Movie after 5:00 PM\n",
    "\n",
    "#Step 4:  Print the ticket price\n",
    "print(\"Ticket price is  ${:.2f}\".format(ticket_price))"
   ]
  },
  {
   "cell_type": "markdown",
   "id": "54cb765e",
   "metadata": {},
   "source": [
    "### Using random build a game to guess a number\n"
   ]
  },
  {
   "cell_type": "code",
   "execution_count": 59,
   "id": "7d9bceca",
   "metadata": {},
   "outputs": [
    {
     "name": "stdout",
     "output_type": "stream",
     "text": [
      "New Number: 10\n",
      "Number too small\n",
      "New Number: 16\n",
      "Number too large\n",
      "New Number: 14\n",
      "Number too large\n",
      "New Number: 13\n",
      "Number too large\n",
      "New Number: 12\n",
      "Congrats.  You made it!\n"
     ]
    }
   ],
   "source": [
    "import random\n",
    "upper_bound = 20\n",
    "lower_bound = 1\n",
    "to_be_guessed = random.randint(lower_bound, upper_bound)\n",
    "guess = 0\n",
    "while guess != to_be_guessed:\n",
    "    guess = int(input(\"New Number: \"))\n",
    "    if guess > 0:\n",
    "        if guess > to_be_guessed:\n",
    "            print(\"Number too large\")\n",
    "        elif guess < to_be_guessed:\n",
    "            print(\"Number too small\")\n",
    "    else:\n",
    "        # 0 means giving up\n",
    "        print(\"quitter!\")\n",
    "        break\n",
    "        \n",
    "else:\n",
    "print(\"Congrats.  You made it!\")"
   ]
  },
  {
   "cell_type": "code",
   "execution_count": 77,
   "id": "2d2e182b",
   "metadata": {},
   "outputs": [
    {
     "name": "stdout",
     "output_type": "stream",
     "text": [
      "Enter your age: 50\n",
      "Enter the movie time (24 hour format, e.g., 15:30)1530\n",
      "Ticket price is: $10.00\n"
     ]
    }
   ],
   "source": [
    "# Step 1: As the user to enter their age\n",
    "age = int(input(\"Enter your age: \"))\n",
    "# Step 2: Ask the user to enter the time of the moview\n",
    "showTime = input(\"Enter the movie time (24 hour format, e.g., 15:30)\")\n",
    "\n",
    "# convert show time to an integer\n",
    "showTime = int(showTime.replace(\":\", \"\"))\n",
    "\n",
    "ticket_price = 10 if showTime <= 1700 else 13\n",
    "#showTime <= 1700 ticket_price else ticket_price = 13\n",
    "\n",
    "#if showTime <= 1700:\n",
    " #   ticket_price = 10.00 # Movie before or at 5:00 PM\n",
    "#else:\n",
    " #   ticket_price = 13 # Movie after 5:00 PM\n",
    "# Step 3: Calculate the ticket price based on age and showtime\n",
    "\n",
    "if age <= 12 or age >= 65:\n",
    "    ticket_price = ticket_price * 0.5 # 50% discount applied for child and senior citizens\n",
    "    \n",
    "# Step 4: Print the ticket price\n",
    "print(\"Ticket price is: ${:.2f}\".format(ticket_price))"
   ]
  },
  {
   "cell_type": "markdown",
   "id": "c03a148a",
   "metadata": {},
   "source": [
    "### While Loops\n",
    "There are essentially three kinds of loops\n",
    "- Count controlled loops (Python doesn't have this kind of loop)\n",
    "- Condition-controlled loop; A loop will repeat until a give condition ismet\n",
    "- Collection-controlled loop - uses collection objects\n",
    "\n",
    "iterate over data"
   ]
  },
  {
   "cell_type": "code",
   "execution_count": 51,
   "id": "ce0b45c7",
   "metadata": {},
   "outputs": [
    {
     "name": "stdout",
     "output_type": "stream",
     "text": [
      "sum of 1 until 100 results in 5050\n"
     ]
    }
   ],
   "source": [
    "# Simple example for a while Loop\n",
    "# Calucate the sum of numbers from 1 to 100\n",
    "n = 100\n",
    "total_sum = 0\n",
    "counter = 1\n",
    "while counter <= n:\n",
    "    total_sum = total_sum + counter\n",
    "    counter = counter + 1\n",
    "\n",
    "print(\"sum of 1 until \"+ str(n) + \" results in \" + str(total_sum))    \n",
    "\n",
    "\n",
    "\n",
    "    "
   ]
  },
  {
   "cell_type": "markdown",
   "id": "677cb3cf",
   "metadata": {},
   "source": [
    "### Write a simple while loop that counts from 1 to 5 and sum the numbers\n"
   ]
  },
  {
   "cell_type": "code",
   "execution_count": 68,
   "id": "84208d35",
   "metadata": {},
   "outputs": [
    {
     "name": "stdout",
     "output_type": "stream",
     "text": [
      "counter is at  1\n",
      "the total is  1 \n",
      "\n",
      "counter is at  2\n",
      "the total is  3 \n",
      "\n",
      "counter is at  3\n",
      "the total is  6 \n",
      "\n",
      "counter is at  4\n",
      "the total is  10 \n",
      "\n",
      "counter is at  5\n",
      "the total is  15 \n",
      "\n"
     ]
    }
   ],
   "source": [
    "n = 5\n",
    "counter = 1\n",
    "total = 0\n",
    "\n",
    "while (counter <= n):\n",
    "    print(\"counter is at \", counter)\n",
    "    total = total + counter\n",
    "    counter = counter + 1\n",
    "    print(\"the total is \", total, \"\\n\")\n",
    "        "
   ]
  },
  {
   "cell_type": "markdown",
   "id": "2184aa1c",
   "metadata": {},
   "source": [
    "#### While Loop is used to check a condition that may change during the course of the loop, so that the loop can finish executing once that condition evaluates to false"
   ]
  },
  {
   "cell_type": "code",
   "execution_count": 76,
   "id": "f5e747ea",
   "metadata": {},
   "outputs": [
    {
     "name": "stdout",
     "output_type": "stream",
     "text": [
      "0 1 \n",
      "new 'a' value 1\n",
      "new 'b' value 2\n",
      "1 2 \n",
      "new 'a' value 3\n",
      "new 'b' value 5\n",
      "3 5 \n",
      "new 'a' value 8\n",
      "new 'b' value 13\n",
      "8 13 \n",
      "new 'a' value 21\n",
      "new 'b' value 34\n",
      "21 34 \n",
      "new 'a' value 55\n",
      "new 'b' value 89\n",
      "\n"
     ]
    }
   ],
   "source": [
    "#use a while loop to create the fibinnachi sequence\n",
    "#0,1,1,2,3,5,8,13,21,34\n",
    "a=0\n",
    "b=1\n",
    "count=0\n",
    "max_count = 5\n",
    "\n",
    "while(count < max_count):\n",
    "    #fibinaci_sequence = a + b\n",
    "    print(a,b,end =\" \") # (end = \" \") This keeps the print from creating a new line\n",
    "    count += 1\n",
    "    a = a + b\n",
    "    print(\"\\nnew 'a' value\", a)\n",
    "    b = a + b\n",
    "    print(\"new 'b' value\", b)\n",
    "    \n",
    "print()    \n",
    "\n",
    "fibinacci_total=0"
   ]
  },
  {
   "cell_type": "code",
   "execution_count": null,
   "id": "452a30f2",
   "metadata": {},
   "outputs": [],
   "source": []
  }
 ],
 "metadata": {
  "kernelspec": {
   "display_name": "Python 3 (ipykernel)",
   "language": "python",
   "name": "python3"
  },
  "language_info": {
   "codemirror_mode": {
    "name": "ipython",
    "version": 3
   },
   "file_extension": ".py",
   "mimetype": "text/x-python",
   "name": "python",
   "nbconvert_exporter": "python",
   "pygments_lexer": "ipython3",
   "version": "3.11.4"
  }
 },
 "nbformat": 4,
 "nbformat_minor": 5
}
