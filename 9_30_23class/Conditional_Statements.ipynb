{
 "cells": [
  {
   "cell_type": "markdown",
   "id": "9107788d",
   "metadata": {},
   "source": [
    "### Decision Making Conditions\n",
    "If it rains tomorrow, I'll clean up the basement.\n",
    "After that, I will paint the walls.  If there is any time left, I will file\n",
    "my tax return.  Otherwise, if it will not rain, I will go swimming.  In the \n",
    "evening, I will go to the cinema with my family.\n",
    "* identify nouns - verbs - adj's\n",
    "* interface is verb actin on noun\n",
    "\n",
    "\n"
   ]
  },
  {
   "cell_type": "markdown",
   "id": "c394087a",
   "metadata": {},
   "source": [
    "### Pseudo Code\n",
    "#### If it rains tomorrow, I will do the following:\n",
    "* Clean up basement\n",
    "* paint the walls\n",
    "* If there is any time left, I will do my taxes\n",
    "#### Otherwise, I will do the following\n",
    "* Go Swimming\n",
    "* Go to the movies with my family"
   ]
  },
  {
   "cell_type": "markdown",
   "id": "ac0067e9",
   "metadata": {},
   "source": [
    "#### If condition structure\n",
    "if condition: <br>\n",
    "   &nbsp; &nbsp; statement<br>\n",
    "   &nbsp; &nbsp; statement<br>\n",
    "   &nbsp; &nbsp; further statement is necessary, if necessary"
   ]
  },
  {
   "cell_type": "code",
   "execution_count": 7,
   "id": "8f35c7af",
   "metadata": {},
   "outputs": [
    {
     "name": "stdout",
     "output_type": "stream",
     "text": [
      "Nationaly? french\n",
      "True\n",
      "<class 'str'>\n",
      "Hello there\n"
     ]
    }
   ],
   "source": [
    "person = input(\"Nationaly? \")\n",
    "print(person == \"french\")\n",
    "print(type(person))\n",
    "if (person == \"french\") or (person == \"French\"): #this is the condition\n",
    "    print(\"Hello there\")  #indentaion is 4 spaces"
   ]
  },
  {
   "cell_type": "markdown",
   "id": "c4122543",
   "metadata": {},
   "source": [
    "#### above we've used \"or\" operator, \"type\" function, \"==\"  comparison and utilization of parentheses \"()\" in the if-then statement"
   ]
  },
  {
   "cell_type": "markdown",
   "id": "fc663023",
   "metadata": {},
   "source": [
    "#### using int() function to convert string value into an integer"
   ]
  },
  {
   "cell_type": "code",
   "execution_count": 19,
   "id": "888d049e",
   "metadata": {},
   "outputs": [
    {
     "name": "stdout",
     "output_type": "stream",
     "text": [
      "age of the dog: -2\n",
      "<class 'int'>\n",
      "the age of the dog is  -2\n",
      "impossible! \n"
     ]
    }
   ],
   "source": [
    "#Calculate Dog years\n",
    "age = int(input(\"age of the dog: \"))\n",
    "print(type(age))\n",
    "print(\"the age of the dog is \", age)\n",
    "if age < 0:\n",
    "    print(\"impossible! \")\n",
    "elif age == 0:\n",
    "    print(\"new born baby\")\n",
    "elif age == 1:\n",
    "    print(\"that is 7 years old in human years\")\n",
    "elif age == 2:\n",
    "    print(\"14 human years\")\n",
    "else:\n",
    "    human = 14 + (age-2) * 7\n",
    "    print(\"Corresponds to \" +str(human) + \" human years\")"
   ]
  },
  {
   "cell_type": "markdown",
   "id": "322a3d14",
   "metadata": {},
   "source": [
    "### convert lines 7-10 to a ternery statement"
   ]
  },
  {
   "cell_type": "code",
   "execution_count": 21,
   "id": "2690e5f3",
   "metadata": {},
   "outputs": [
    {
     "ename": "SyntaxError",
     "evalue": "invalid syntax (2795604754.py, line 8)",
     "output_type": "error",
     "traceback": [
      "\u001b[1;36m  Cell \u001b[1;32mIn[21], line 8\u001b[1;36m\u001b[0m\n\u001b[1;33m    (showTime <= 1700) ticket_price = 10 : ticket_price = 13\u001b[0m\n\u001b[1;37m                       ^\u001b[0m\n\u001b[1;31mSyntaxError\u001b[0m\u001b[1;31m:\u001b[0m invalid syntax\n"
     ]
    }
   ],
   "source": [
    "# Step 1: As the user to enter their age\n",
    "age = int(input(\"Enter your age: \"))\n",
    "# Step 2: Ask the user to enter the time of the moview\n",
    "showTime = input(\"Enter the movie time (24 hour format, e.g., 15:30)\")\n",
    "# convert show time to an integer\n",
    "showTime = int(showTime.replace(\":\", \"\"))\n",
    "\n",
    "(showTime <= 1700) ticket_price = 10 : ticket_price = 13\n",
    "\n",
    "#if showTime <= 1700:\n",
    " #   ticket_price = 10.00 # Movie before or at 5:00 PM\n",
    "#else:\n",
    " #   ticket_price = 13 # Movie after 5:00 PM\n",
    "# Step 3: Calculate the ticket price based on age and showtime\n",
    "\n",
    "if age <= 12 or age >= 65:\n",
    "    ticket_price = ticket_price * 0.5 # 50% discount applied for child and senior citizens\n",
    "    \n",
    "# Step 4: Print the ticket price\n",
    "print(\"Ticket price is: ${:.2f}\".format(ticket_price))"
   ]
  },
  {
   "cell_type": "code",
   "execution_count": null,
   "id": "519de5b2",
   "metadata": {},
   "outputs": [],
   "source": []
  }
 ],
 "metadata": {
  "kernelspec": {
   "display_name": "Python 3 (ipykernel)",
   "language": "python",
   "name": "python3"
  },
  "language_info": {
   "codemirror_mode": {
    "name": "ipython",
    "version": 3
   },
   "file_extension": ".py",
   "mimetype": "text/x-python",
   "name": "python",
   "nbconvert_exporter": "python",
   "pygments_lexer": "ipython3",
   "version": "3.11.4"
  }
 },
 "nbformat": 4,
 "nbformat_minor": 5
}
