{
 "cells": [
  {
   "cell_type": "markdown",
   "id": "5736a99d",
   "metadata": {},
   "source": [
    "## While Looping Exercises\n",
    "### Objective: Practice using 'while' loops in python"
   ]
  },
  {
   "cell_type": "markdown",
   "id": "392f866b",
   "metadata": {},
   "source": [
    "### Problem 1:\n",
    "#### Print numbers from 1 to 10 using a 'while' loop"
   ]
  },
  {
   "cell_type": "code",
   "execution_count": 10,
   "id": "ab9de8a0",
   "metadata": {},
   "outputs": [
    {
     "name": "stdout",
     "output_type": "stream",
     "text": [
      "1\n",
      "2\n",
      "3\n",
      "4\n",
      "5\n",
      "6\n",
      "7\n",
      "8\n",
      "9\n",
      "10\n"
     ]
    }
   ],
   "source": [
    "## Write the code\n",
    "i = 1\n",
    "while i<=10:\n",
    "    print(i)\n",
    "    i += 1"
   ]
  },
  {
   "cell_type": "markdown",
   "id": "6e2ebed6",
   "metadata": {},
   "source": [
    "### Problem 2: \n",
    "#### Create a 'while' loop that doubles a number until it is greater than 1000"
   ]
  },
  {
   "cell_type": "code",
   "execution_count": 11,
   "id": "57f5135a",
   "metadata": {},
   "outputs": [
    {
     "name": "stdout",
     "output_type": "stream",
     "text": [
      "1024\n"
     ]
    }
   ],
   "source": [
    "## Write the code\n",
    "num = 1\n",
    "while (num <= 1000):\n",
    "    num *= 2 # num = num * 2\n",
    "print(num)"
   ]
  },
  {
   "cell_type": "markdown",
   "id": "043f3929",
   "metadata": {},
   "source": [
    "### Problem 3:\n",
    "#### Using a 'while' loop, ask the user for their name. If the name is not 'Bob', keep asking"
   ]
  },
  {
   "cell_type": "code",
   "execution_count": 14,
   "id": "a8a13624",
   "metadata": {},
   "outputs": [
    {
     "name": "stdout",
     "output_type": "stream",
     "text": [
      "Hello Bob!\n"
     ]
    }
   ],
   "source": [
    "## Write the code\n",
    "name = \"\" # This is an initialize variable\n",
    "while (name != \"Bob\"):\n",
    "    name = input(\"What's your name? \")\n",
    "print(\"Hello Bob!\")"
   ]
  },
  {
   "cell_type": "markdown",
   "id": "77dd136d",
   "metadata": {},
   "source": [
    "### Problem 4:\n",
    "#### Write a 'while' loop that calculates the factorial of 7"
   ]
  },
  {
   "cell_type": "code",
   "execution_count": 18,
   "id": "a78fdd4a",
   "metadata": {},
   "outputs": [
    {
     "name": "stdout",
     "output_type": "stream",
     "text": [
      "result:  7\n",
      "num:  6\n",
      "result:  42\n",
      "num:  5\n",
      "result:  210\n",
      "num:  4\n",
      "result:  840\n",
      "num:  3\n",
      "result:  2520\n",
      "num:  2\n",
      "result:  5040\n",
      "num:  1\n"
     ]
    }
   ],
   "source": [
    "## Write the code\n",
    "## The factorial function (symbol: !) \n",
    "# says to multiply all whole numbers from our chosen number down to 1.\n",
    "result = 1\n",
    "num = 7\n",
    "while num > 1:\n",
    "    result *= num\n",
    "    print(\"result: \", result)\n",
    "    num -= 1\n",
    "    print(\"num: \", num)\n",
    "# print(result)"
   ]
  },
  {
   "cell_type": "markdown",
   "id": "ad2592d3",
   "metadata": {},
   "source": [
    "### Problem 5:\n",
    "#### Given a list of numbers '[3, 7, 2, 8, 4]', use a 'while' loop to sum up its elements"
   ]
  },
  {
   "cell_type": "code",
   "execution_count": 5,
   "id": "7acf9254",
   "metadata": {},
   "outputs": [
    {
     "name": "stdout",
     "output_type": "stream",
     "text": [
      "1\n",
      "2\n",
      "3\n",
      "4\n",
      "5\n"
     ]
    }
   ],
   "source": [
    "## Write the code\n",
    "numbers = [3, 7, 2, 8, 4]\n",
    "i = 0\n",
    "sum_numbers = 0\n",
    "numbers[1]\n",
    "# len(numbers)\n",
    "while (i < len(numbers)):\n",
    "    sum_numbers = sum_numbers + numbers[i] # 0 + 3 = 3, 3 + 7 = 10, 10 + 2 = 12, 12+8=20, 20+ 4 = 24 \n",
    "#     print(numbers[i])\n",
    "    i += 1 # 0 + 1 = 1, 2, 3, 4,5\n",
    "    print(i)\n",
    "print(sum_numbers)"
   ]
  },
  {
   "cell_type": "markdown",
   "id": "873dcc92",
   "metadata": {},
   "source": [
    "### Problem 6:\n",
    "#### Write a 'while' loop to reverse a string 'HELLO' character by character"
   ]
  },
  {
   "cell_type": "code",
   "execution_count": 3,
   "id": "b383a78a",
   "metadata": {},
   "outputs": [
    {
     "name": "stdout",
     "output_type": "stream",
     "text": [
      "MUSPI MEROL\n"
     ]
    }
   ],
   "source": [
    "## Write the code\n",
    "text = \"LOREM IPSUM\"\n",
    "reversed_text = \"\"\n",
    "i = len(text) -1\n",
    "while i >= 0:\n",
    "    reversed_text = reversed_text + text[i]\n",
    "    i = i - 1\n",
    "print(reversed_text)"
   ]
  },
  {
   "cell_type": "markdown",
   "id": "03c08310",
   "metadata": {},
   "source": [
    "### Problem 7:\n",
    "#### Create a 'while' loop that counts how many times a dice (with values from 1 to 6) needs to be rolled to get a 6"
   ]
  },
  {
   "cell_type": "code",
   "execution_count": 18,
   "id": "89b4e280",
   "metadata": {},
   "outputs": [
    {
     "name": "stdout",
     "output_type": "stream",
     "text": [
      "You need to roll 5 times to get a dice value of 6\n"
     ]
    }
   ],
   "source": [
    "## Write the code\n",
    "import random\n",
    "rolls = 0\n",
    "while True: # Run this no matter what\n",
    "    dice = random.randint(1,6)\n",
    "    rolls += 1\n",
    "    if dice == 6:\n",
    "        break\n",
    "\n",
    "print(\"You need to roll\", rolls, \"times to get a dice value of 6\")\n",
    "    "
   ]
  },
  {
   "cell_type": "markdown",
   "id": "bc94bfef",
   "metadata": {},
   "source": [
    "### Problem 8:\n",
    "#### Using a 'while' loop calculate the sum of all odd numbers between 1 and 50"
   ]
  },
  {
   "cell_type": "code",
   "execution_count": 19,
   "id": "e51fb0cc",
   "metadata": {},
   "outputs": [
    {
     "name": "stdout",
     "output_type": "stream",
     "text": [
      "625\n"
     ]
    }
   ],
   "source": [
    "## Write the code\n",
    "sum_odd = 0\n",
    "i = 1\n",
    "while i <= 50:\n",
    "    if i % 2 == 1:\n",
    "        sum_odd += i\n",
    "    i += 1\n",
    "print(sum_odd)\n"
   ]
  },
  {
   "cell_type": "markdown",
   "id": "c05d8efd",
   "metadata": {},
   "source": [
    "### Problem 9:\n",
    "#### Write a 'while' loop that stops when the sum of randomly generated numbers (between 1 and 100) exceeds 500"
   ]
  },
  {
   "cell_type": "code",
   "execution_count": 20,
   "id": "c36b96ea",
   "metadata": {},
   "outputs": [
    {
     "name": "stdout",
     "output_type": "stream",
     "text": [
      "578\n"
     ]
    }
   ],
   "source": [
    "## Write the code\n",
    "import random\n",
    "sum_random = 0\n",
    "while sum_random <= 500:\n",
    "    sum_random += random.randint(1, 100)\n",
    "print(sum_random)"
   ]
  },
  {
   "cell_type": "markdown",
   "id": "2a64be7f",
   "metadata": {},
   "source": [
    "### Problem 10:\n",
    "#### Using a 'while' loop, find the smallest power of 3 that is greater than 1000"
   ]
  },
  {
   "cell_type": "code",
   "execution_count": 22,
   "id": "53469ec1",
   "metadata": {},
   "outputs": [
    {
     "name": "stdout",
     "output_type": "stream",
     "text": [
      "2187\n"
     ]
    }
   ],
   "source": [
    "power_of_3 = 1\n",
    "while power_of_3 <= 1000:\n",
    "    power_of_3 *= 3\n",
    "print(power_of_3)"
   ]
  },
  {
   "cell_type": "code",
   "execution_count": null,
   "id": "244d504e",
   "metadata": {},
   "outputs": [],
   "source": []
  }
 ],
 "metadata": {
  "kernelspec": {
   "display_name": "Python 3 (ipykernel)",
   "language": "python",
   "name": "python3"
  },
  "language_info": {
   "codemirror_mode": {
    "name": "ipython",
    "version": 3
   },
   "file_extension": ".py",
   "mimetype": "text/x-python",
   "name": "python",
   "nbconvert_exporter": "python",
   "pygments_lexer": "ipython3",
   "version": "3.11.3"
  }
 },
 "nbformat": 4,
 "nbformat_minor": 5
}
