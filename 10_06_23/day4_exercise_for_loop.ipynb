{
 "cells": [
  {
   "attachments": {},
   "cell_type": "markdown",
   "id": "8cbf9f50",
   "metadata": {},
   "source": [
    "### For Loop Syntax\n",
    "\n",
    "    for <local variable> in <sequence>:\n",
    "        <statements>\n",
    "    else:\n",
    "        <statements>\n",
    "            \n",
    "##### sequence can be a list, dictionary, fibinacci, etc.\n",
    " "
   ]
  },
  {
   "cell_type": "markdown",
   "id": "ac9a8857",
   "metadata": {},
   "source": [
    "### Example 1:\n",
    "\n",
    "\n"
   ]
  },
  {
   "cell_type": "code",
   "execution_count": 5,
   "id": "8aa221cc",
   "metadata": {},
   "outputs": [
    {
     "name": "stdout",
     "output_type": "stream",
     "text": [
      "C\n",
      "C++\n",
      "Perl\n",
      "Python\n",
      "\n",
      "length of the sequence is  4 \n",
      "\n"
     ]
    }
   ],
   "source": [
    "languages = [\"C\", \"C++\", \"Perl\", \"Python\"]  #sequence because, starts at 0 = \"c\", 1 = \"C++\", etc\n",
    "                                            #len() will work on a sequence\n",
    "for language in languages:#'language' is local in effectiveness'\n",
    "    print(language)\n",
    "print(\"\\nlength of the sequence is \", len(languages), \"\\n\")"
   ]
  },
  {
   "cell_type": "code",
   "execution_count": 6,
   "id": "aaf21745",
   "metadata": {},
   "outputs": [
    {
     "data": {
      "text/plain": [
       "range(0, 10)"
      ]
     },
     "execution_count": 6,
     "metadata": {},
     "output_type": "execute_result"
    }
   ],
   "source": [
    "range(10)#starts at 0, goes to 9, 10 elements not including '10' "
   ]
  },
  {
   "cell_type": "code",
   "execution_count": 7,
   "id": "20dad872",
   "metadata": {},
   "outputs": [
    {
     "data": {
      "text/plain": [
       "10"
      ]
     },
     "execution_count": 7,
     "metadata": {},
     "output_type": "execute_result"
    }
   ],
   "source": [
    "len(range(10)) #range does not include the number 10, range is from 0-9"
   ]
  },
  {
   "cell_type": "code",
   "execution_count": 11,
   "id": "14193f49",
   "metadata": {},
   "outputs": [
    {
     "name": "stdout",
     "output_type": "stream",
     "text": [
      "C\n",
      "C++\n",
      "Perl\n",
      "Python\n"
     ]
    }
   ],
   "source": [
    "for  lang in range(len(languages)):  #you've transformed a string or list to a numberical value => very fast!!\n",
    "    print(languages[lang]) #lang becomes the index, hence extract the value from the list using the Index position \n",
    "                           #\"languages of ????\" "
   ]
  },
  {
   "cell_type": "markdown",
   "id": "20bd5518",
   "metadata": {},
   "source": [
    "### Problem 1:\n",
    "\n",
    "#### Print the multiplication table (up to 10) for the number 5"
   ]
  },
  {
   "cell_type": "code",
   "execution_count": 18,
   "id": "70299bd1",
   "metadata": {},
   "outputs": [
    {
     "name": "stdout",
     "output_type": "stream",
     "text": [
      "5 x 1 = 5\n",
      "5 x 2 = 10\n",
      "5 x 3 = 15\n",
      "5 x 4 = 20\n",
      "5 x 5 = 25\n",
      "5 x 6 = 30\n",
      "5 x 7 = 35\n",
      "5 x 8 = 40\n",
      "5 x 9 = 45\n",
      "5 x 10 = 50\n",
      "left the multiplication table\n"
     ]
    }
   ],
   "source": [
    "max_number = 11\n",
    "for number in range(1,max_number):\n",
    "    multi_table = number * 5\n",
    "    #print(f\"the multiplication table of 5 times\", number, \"is \", multi_table)\n",
    "    print(f\"5 x {number} = {5*number}\")  #'f' (required) for formatting curly braces that act as a variable space holder\n",
    "\n",
    "print(\"left the multiplication table\")\n"
   ]
  },
  {
   "cell_type": "markdown",
   "id": "29875055",
   "metadata": {},
   "source": [
    "### Problem 2:\n",
    "#### Given a list names, count how manyof theme have more than 5 characters"
   ]
  },
  {
   "cell_type": "code",
   "execution_count": 25,
   "id": "d6637924",
   "metadata": {},
   "outputs": [
    {
     "name": "stdout",
     "output_type": "stream",
     "text": [
      "2\n"
     ]
    }
   ],
   "source": [
    "names = [\"Alice\",\"Bob\", \"Christopher\",\"Eve\",\"Daniel\",\"Frank\"]\n",
    "count = 0\n",
    "\n",
    "for name in names:\n",
    "    if len(name) > 5:\n",
    "        count +=1\n",
    "       \n",
    "print(count)\n",
    "    "
   ]
  },
  {
   "cell_type": "markdown",
   "id": "3279e8c8",
   "metadata": {},
   "source": [
    "### Problem 3:\n",
    "####Calculate the factorial of 7 using 'for' loop\n"
   ]
  },
  {
   "cell_type": "code",
   "execution_count": 36,
   "id": "df4ec1cc",
   "metadata": {},
   "outputs": [
    {
     "name": "stdout",
     "output_type": "stream",
     "text": [
      "result {result}\n",
      "increment 1 times 1\n",
      "result {result}\n",
      "increment 2 times 2\n",
      "result {result}\n",
      "increment 3 times 6\n",
      "result {result}\n",
      "increment 4 times 24\n",
      "result {result}\n",
      "increment 5 times 120\n",
      "result {result}\n",
      "increment 6 times 720\n",
      "result {result}\n",
      "increment 7 times 5040\n",
      "5040\n"
     ]
    }
   ],
   "source": [
    "\n",
    "result = 1\n",
    "for i in range(1,8):\n",
    "    print(\"result {result}\")\n",
    "    result *=i # result = result * i\n",
    "    print(f\"increment {i} times {result}\")\n",
    "    \n",
    "print(result)\n",
    "    "
   ]
  },
  {
   "cell_type": "markdown",
   "id": "20792119",
   "metadata": {},
   "source": [
    "### Problem 4\n",
    "#### Write a \"for\" loop that will iterate over a string and count the number of occurrences of the letter 'a'"
   ]
  },
  {
   "cell_type": "code",
   "execution_count": 42,
   "id": "1c860d17",
   "metadata": {},
   "outputs": [
    {
     "name": "stdout",
     "output_type": "stream",
     "text": [
      "5\n"
     ]
    }
   ],
   "source": [
    "text = \"The rain in spainfalls mainly on the plain\"\n",
    "counter = 0\n",
    "\n",
    "for letter in text:\n",
    "    if letter == 'a':\n",
    "        counter += 1\n",
    "\n",
    "print(counter)"
   ]
  },
  {
   "cell_type": "code",
   "execution_count": 50,
   "id": "8231fae3",
   "metadata": {},
   "outputs": [
    {
     "name": "stdout",
     "output_type": "stream",
     "text": [
      "T\n",
      "h\n",
      "e\n",
      " \n",
      "r\n",
      "a\n",
      "i\n",
      "n\n",
      " \n",
      "i\n",
      "n\n",
      " \n",
      "s\n",
      "p\n",
      "a\n",
      "i\n",
      "n\n",
      " \n",
      "f\n",
      "a\n",
      "l\n",
      "l\n",
      "s\n",
      " \n",
      "m\n",
      "a\n",
      "i\n",
      "n\n",
      "l\n",
      "y\n",
      " \n",
      "o\n",
      "n\n",
      " \n",
      "t\n",
      "h\n",
      "e\n",
      " \n",
      "p\n",
      "l\n",
      "a\n",
      "i\n",
      "n\n",
      "The rain in spain falls mainly on the plain\n",
      "5\n"
     ]
    }
   ],
   "source": [
    "text = \"The rain in spain falls mainly on the plain\"\n",
    "counter = 0\n",
    "for letter in range(len(text)):\n",
    "    print(text[letter])\n",
    "    if text[letter] == 'a':\n",
    "        counter += 1\n",
    "print(text)\n",
    "print(counter)\n",
    "\n",
    "#for  lang in range(len(languages)):  #you've transformed a string or list to a numberical value => very fast!!\n",
    "#    print(languages[lang])"
   ]
  },
  {
   "cell_type": "markdown",
   "id": "5b1d92e7",
   "metadata": {},
   "source": [
    "### Problem 5:\n",
    "#### Given a list of numbers '[2,5,8,11,14,17]' use a 'for' loop to print their squares"
   ]
  },
  {
   "cell_type": "code",
   "execution_count": 62,
   "id": "a86f8c1b",
   "metadata": {},
   "outputs": [
    {
     "name": "stdout",
     "output_type": "stream",
     "text": [
      "2\n",
      "4\n",
      "5\n",
      "25\n",
      "8\n",
      "64\n",
      "11\n",
      "121\n",
      "14\n",
      "196\n",
      "17\n",
      "289\n"
     ]
    }
   ],
   "source": [
    "\n",
    "numbers = [2,5,8,11,14,17]\n",
    "\n",
    "for number in numbers:\n",
    "    print(number)\n",
    "    #number *= number\n",
    "    square = number**2\n",
    "    print(square)"
   ]
  },
  {
   "cell_type": "code",
   "execution_count": 52,
   "id": "81dd558c",
   "metadata": {},
   "outputs": [
    {
     "name": "stdout",
     "output_type": "stream",
     "text": [
      "C\n",
      "C++\n",
      "Perl\n",
      "Python\n"
     ]
    }
   ],
   "source": [
    "\n",
    "\n",
    "\n",
    "for  lang in range(len(languages)):  #you've transformed a string or list to a numberical value => very fast!!\n",
    "    print(languages[lang])"
   ]
  },
  {
   "cell_type": "markdown",
   "id": "ee9982c4",
   "metadata": {},
   "source": [
    "### Problem 6:\n",
    "#### For a list of words, ['apple', 'banana', 'cherry', 'date','fig'], use a 'for' loop to print only those words that start with a vowel\n",
    "\n"
   ]
  },
  {
   "cell_type": "code",
   "execution_count": 90,
   "id": "7b084d9f",
   "metadata": {},
   "outputs": [
    {
     "name": "stdout",
     "output_type": "stream",
     "text": [
      "inside first for loop, apple\n",
      "apple\n",
      "inside first for loop, banana\n",
      "inside first for loop, cherry\n",
      "inside first for loop, date\n",
      "inside first for loop, fig\n",
      "inside first for loop, orange\n",
      "orange\n"
     ]
    },
    {
     "data": {
      "text/plain": [
       "'    for vowel in vowel_list:\\n#        print(fruit[:1])\\n        print(fruit[0])\\n#        if fruit[:1] == vowel:\\n        if fruit[0] == vowel:\\n            print(\"where am i here\", fruit)\\n'"
      ]
     },
     "execution_count": 90,
     "metadata": {},
     "output_type": "execute_result"
    }
   ],
   "source": [
    "fruits =  ['apple', 'banana', 'cherry', 'date','fig', 'orange']\n",
    "vowel_list = ['a','e','i','o','u']\n",
    "\n",
    "for fruit in fruits:\n",
    "    print(\"inside first for loop,\" ,fruit)\n",
    "    if fruit[0] in vowel_list:\n",
    "        print(fruit)\n",
    "        \n",
    "\"\"\"    for vowel in vowel_list:\n",
    "#        print(fruit[:1])\n",
    "        print(fruit[0])\n",
    "#        if fruit[:1] == vowel:\n",
    "        if fruit[0] == vowel:\n",
    "            print(\"where am i here\", fruit)\n",
    "\"\"\""
   ]
  },
  {
   "cell_type": "code",
   "execution_count": 88,
   "id": "fe5ff724",
   "metadata": {},
   "outputs": [
    {
     "name": "stdout",
     "output_type": "stream",
     "text": [
      "a\n",
      "apple\n",
      "b\n",
      "c\n",
      "d\n",
      "f\n",
      "o\n",
      "orange\n"
     ]
    }
   ],
   "source": [
    "#class solution\n",
    "fruits =  ['apple', 'banana', 'cherry', 'date','fig', 'orange']\n",
    "vowels = \"AEIOUaeiou\" #this actually a constant\n",
    "for fruit in fruits:\n",
    "    print(fruit[0])\n",
    "    if fruit[0] in vowels: #right side is always the fixed constant, i.e., left side is the i/p variable\n",
    "        print(fruit)"
   ]
  },
  {
   "cell_type": "code",
   "execution_count": null,
   "id": "5cc4665c",
   "metadata": {},
   "outputs": [],
   "source": []
  }
 ],
 "metadata": {
  "kernelspec": {
   "display_name": "Python 3 (ipykernel)",
   "language": "python",
   "name": "python3"
  },
  "language_info": {
   "codemirror_mode": {
    "name": "ipython",
    "version": 3
   },
   "file_extension": ".py",
   "mimetype": "text/x-python",
   "name": "python",
   "nbconvert_exporter": "python",
   "pygments_lexer": "ipython3",
   "version": "3.11.4"
  }
 },
 "nbformat": 4,
 "nbformat_minor": 5
}
