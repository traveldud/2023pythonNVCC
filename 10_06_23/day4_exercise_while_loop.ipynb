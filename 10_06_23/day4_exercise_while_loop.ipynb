{
 "cells": [
  {
   "cell_type": "markdown",
   "id": "f2247413",
   "metadata": {},
   "source": [
    "### While Looping Exercises\n",
    "#### Objective: Practice using 'while' loops in python\n"
   ]
  },
  {
   "cell_type": "markdown",
   "id": "d6695ab6",
   "metadata": {},
   "source": [
    "### Problem 1:  \n",
    "#### Print numbers from 1 to 10 using 'while' loop\n",
    "\n"
   ]
  },
  {
   "cell_type": "code",
   "execution_count": 2,
   "id": "1a1c423c",
   "metadata": {},
   "outputs": [
    {
     "name": "stdout",
     "output_type": "stream",
     "text": [
      "1\n",
      "2\n",
      "3\n",
      "4\n",
      "5\n",
      "6\n",
      "7\n",
      "8\n",
      "9\n",
      "10\n"
     ]
    }
   ],
   "source": [
    "counter = 1\n",
    "while (counter < 11):\n",
    "    print(counter)\n",
    "    counter += 1"
   ]
  },
  {
   "cell_type": "markdown",
   "id": "21c476e2",
   "metadata": {},
   "source": [
    "### Problem 2:\n",
    "#### Create a \"while' loop that doubles a number until it is greater than 1000"
   ]
  },
  {
   "cell_type": "code",
   "execution_count": 6,
   "id": "227d8548",
   "metadata": {},
   "outputs": [
    {
     "name": "stdout",
     "output_type": "stream",
     "text": [
      "1\n",
      "2\n",
      "4\n",
      "8\n",
      "16\n",
      "32\n",
      "64\n",
      "128\n",
      "256\n",
      "512\n",
      "should be a number less than or equal to 1000 \n"
     ]
    }
   ],
   "source": [
    "counter = 1\n",
    "amount = counter\n",
    "while (amount <= 1000):\n",
    "    print(amount)\n",
    "    #amount = 2*amount\n",
    "    amount *= 2\n",
    "    counter += 1\n",
    "    \n",
    "print(\"should be a number less than or equal to 1000 \")"
   ]
  },
  {
   "cell_type": "markdown",
   "id": "ae79a439",
   "metadata": {},
   "source": [
    "### Problem 3:\n",
    "#### Using a 'while' loop, as the user for their name.  If the name is not 'Bob', keep asking\n"
   ]
  },
  {
   "cell_type": "code",
   "execution_count": 11,
   "id": "6e47402c",
   "metadata": {},
   "outputs": [
    {
     "name": "stdout",
     "output_type": "stream",
     "text": [
      "please input your name.  If you enter 'Bob' it will stopbob\n",
      "Bob ..is an interesting name\n",
      "I've just entered 'Bob'\n"
     ]
    }
   ],
   "source": [
    "name = '' # This is an initialize\n",
    "prompt = \"please input your name.  If you enter 'Bob' it will stop\"\n",
    "while (name != 'Bob'):\n",
    "    name = input(prompt).title()\n",
    "    print(name, \"..is an interesting name\")\n",
    "    \n",
    "print(\"I've just entered 'Bob'\")\n",
    "    \n",
    "    \n",
    "    "
   ]
  },
  {
   "cell_type": "markdown",
   "id": "887fd05f",
   "metadata": {},
   "source": [
    "### Problem 4:\n",
    "#### Writer a 'while' loop that calculates the factorial of 5"
   ]
  },
  {
   "cell_type": "code",
   "execution_count": 20,
   "id": "c0387f83",
   "metadata": {},
   "outputs": [
    {
     "name": "stdout",
     "output_type": "stream",
     "text": [
      "num : 7\n",
      "result:  7\n",
      "num : 6\n",
      "result:  42\n",
      "num : 5\n",
      "result:  210\n",
      "num : 4\n",
      "result:  840\n",
      "num : 3\n",
      "result:  2520\n",
      "num : 2\n",
      "result:  5040\n",
      "5040\n"
     ]
    }
   ],
   "source": [
    "\"\"\"factoid = 5\n",
    "factorial = 1\n",
    "\n",
    "while (factoid != 0):\n",
    "    print(\"factoid \", factoid)\n",
    "    factorial *= factoid\n",
    "    print(\"factorial \", factorial)\n",
    "    factoid -= 1\n",
    "\"\"\"   \n",
    "     \n",
    "result = 1\n",
    "num = 7\n",
    "while num > 1:\n",
    "    print(\"num :\", num)\n",
    "    result *= num\n",
    "    print(\"result: \", result)\n",
    "    num -= 1\n",
    "print(result)\n",
    "    \n",
    "    "
   ]
  },
  {
   "cell_type": "markdown",
   "id": "218af1ad",
   "metadata": {},
   "source": [
    "### Problem 5:\n",
    "#### Given a list of numbers '[3,7,2,8,4]' use a 'while' loop to sum up its elements"
   ]
  },
  {
   "cell_type": "code",
   "execution_count": 24,
   "id": "45891134",
   "metadata": {},
   "outputs": [
    {
     "name": "stdout",
     "output_type": "stream",
     "text": [
      "i 0\n",
      "sum of numbers 3\n",
      "i 1\n",
      "sum of numbers 10\n",
      "i 2\n",
      "sum of numbers 12\n",
      "i 3\n",
      "sum of numbers 20\n",
      "i 4\n",
      "sum of numbers 24\n",
      "24\n"
     ]
    }
   ],
   "source": [
    "\"\"\"list = [3,7,2,8,4]\n",
    "total = 0\n",
    "\n",
    "while (list != []):\n",
    "    part_total = list.pop()\n",
    "    print(\"part_total \", part_total)\n",
    "    total += part_total\n",
    "    print(\"ttotal)\n",
    "    \n",
    "print(total)\n",
    "\"\"\"\n",
    "    \n",
    "\n",
    "#class solution\n",
    "numbers = [3,7,2,8,4]\n",
    "i=0\n",
    "sum_numbers = 0\n",
    "len(numbers)\n",
    "while(i< len(numbers)):\n",
    "    print(\"i\",i)\n",
    "    sum_numbers += numbers[i] # 0 + 'first position which equals 3'\n",
    "    print(\"sum of numbers\", sum_numbers)\n",
    "    i+=1\n",
    "print(sum_numbers)\n"
   ]
  },
  {
   "cell_type": "markdown",
   "id": "339bd106",
   "metadata": {},
   "source": [
    "### Problem 6:\n",
    "#### Write a 'while' loop to revers a string 'HELLO' character by character\n",
    "\n"
   ]
  },
  {
   "cell_type": "code",
   "execution_count": 41,
   "id": "85adea40",
   "metadata": {},
   "outputs": [
    {
     "name": "stdout",
     "output_type": "stream",
     "text": [
      "reverse_text value within 'while loop' O\n",
      "last letter in the word O\n",
      "the remaining word from HELLO\n",
      " HELL\n",
      "reverse_text value within 'while loop' OL\n",
      "last letter in the word L\n",
      "the remaining word from HELLO\n",
      " HEL\n",
      "reverse_text value within 'while loop' OLL\n",
      "last letter in the word L\n",
      "the remaining word from HELLO\n",
      " HE\n",
      "reverse_text value within 'while loop' OLLE\n",
      "last letter in the word E\n",
      "the remaining word from HELLO\n",
      " H\n",
      "reverse_text value within 'while loop' OLLEH\n",
      "last letter in the word H\n",
      "the remaining word from HELLO\n",
      " \n",
      "OLLEH\n"
     ]
    },
    {
     "data": {
      "text/plain": [
       "'\\n# class solution\\ntext = \"HELLO\"\\nreversed_text = \"\"\\ni = len(text) - 1\\nwhile i >= 0:\\n    reversed_text = reversed_text + text[i]\\n    i=i-1\\nprint(reversed_text)\\n   '"
      ]
     },
     "execution_count": 41,
     "metadata": {},
     "output_type": "execute_result"
    }
   ],
   "source": [
    "original_word = 'HELLO'\n",
    "word = original_word\n",
    "reverse_text =''\n",
    "while (word != ''):\n",
    "    \n",
    "    reverse_text = reverse_text + word[-1]\n",
    "    print(\"reverse_text value within 'while loop'\", reverse_text)\n",
    "    print(\"last letter in the word\", word[-1])\n",
    "    word=word[:-1]\n",
    "    print(f\"the remaining word from {original_word}\\n\" ,word)\n",
    "    \n",
    "print(reverse_text)\n",
    "\n",
    "\"\"\"\n",
    "# class solution\n",
    "text = \"HELLO\"\n",
    "reversed_text = \"\"\n",
    "i = len(text) - 1\n",
    "while i >= 0:\n",
    "    reversed_text = reversed_text + text[i]\n",
    "    i=i-1\n",
    "print(reversed_text)\n",
    "   \"\"\" "
   ]
  },
  {
   "cell_type": "markdown",
   "id": "ae8a3a71",
   "metadata": {},
   "source": [
    "### Problem 7:\n",
    "#### Create a 'while' loop that counts how many times a dice (with values from 1 to 6) needs to be rolled to get a 6"
   ]
  },
  {
   "cell_type": "code",
   "execution_count": 28,
   "id": "521fa6b1",
   "metadata": {},
   "outputs": [
    {
     "name": "stdout",
     "output_type": "stream",
     "text": [
      "3\n",
      "3\n",
      "4\n",
      "1\n",
      "1\n",
      "4\n",
      "5\n",
      "1\n",
      "2\n",
      "it took  10 of tries to get to 6\n"
     ]
    }
   ],
   "source": [
    "\"\"\"import random\n",
    "counter  = 1\n",
    "dice_values = [1,2,3,4,5,6]\n",
    "value = random.choice(dice_values)\n",
    "while value != 6:\n",
    "    print(value)\n",
    "    value = random.choice(dice_values)\n",
    "    counter +=1\n",
    "print(\"it took \", counter, \"of tries to get to 6\")\n",
    "\"\"\"\n",
    "\n",
    "import random\n",
    "rolls = 0\n",
    "while True:\n",
    "    dice = random.randint(1,6)\n",
    "    rolls +=1\n",
    "    if dice == 6:\n",
    "        break\n",
    "        \n",
    "print(rolls)\n",
    "\n"
   ]
  },
  {
   "cell_type": "markdown",
   "id": "a926acb8",
   "metadata": {},
   "source": [
    "### Problem 8:\n",
    "#### Using a 'while' loop calculate the sum of all the odd numbers between 1 and 50"
   ]
  },
  {
   "cell_type": "code",
   "execution_count": 30,
   "id": "1fe71fc0",
   "metadata": {},
   "outputs": [
    {
     "name": "stdout",
     "output_type": "stream",
     "text": [
      "current sum of odd numbers is  1\n",
      "current sum of odd numbers is  4\n",
      "current sum of odd numbers is  9\n",
      "current sum of odd numbers is  16\n",
      "current sum of odd numbers is  25\n",
      "current sum of odd numbers is  36\n",
      "current sum of odd numbers is  49\n",
      "current sum of odd numbers is  64\n",
      "current sum of odd numbers is  81\n",
      "current sum of odd numbers is  100\n",
      "current sum of odd numbers is  121\n",
      "current sum of odd numbers is  144\n",
      "current sum of odd numbers is  169\n",
      "current sum of odd numbers is  196\n",
      "current sum of odd numbers is  225\n",
      "current sum of odd numbers is  256\n",
      "current sum of odd numbers is  289\n",
      "current sum of odd numbers is  324\n",
      "current sum of odd numbers is  361\n",
      "current sum of odd numbers is  400\n",
      "current sum of odd numbers is  441\n",
      "current sum of odd numbers is  484\n",
      "current sum of odd numbers is  529\n",
      "current sum of odd numbers is  576\n",
      "current sum of odd numbers is  625\n",
      "sum of previous numbers\n"
     ]
    }
   ],
   "source": [
    "start_number = 1\n",
    "stop_number = 50\n",
    "sum_of_odd_numbers = 0\n",
    "\n",
    "while (start_number <= stop_number):\n",
    "    sum_of_odd_numbers = sum_of_odd_numbers + start_number\n",
    "    print(\"current sum of odd numbers is \", sum_of_odd_numbers)\n",
    "    start_number +=2\n",
    "    \n",
    "print(\"sum of previous numbers\")\n",
    "\"\"\"\n",
    "sum_odd = 0\n",
    "i=1\n",
    "while i <= 50:\n",
    "    if i%2 ==1\n",
    "        sum_odd += i\n",
    "    i +=1\n",
    "    print((sum_odd))\"\"\""
   ]
  },
  {
   "cell_type": "markdown",
   "id": "c81a0201",
   "metadata": {},
   "source": [
    "### Problem 9:\n",
    "#### Write a 'while' loop that stops when the sum of randomly generated numbers (between 1 and 100) exceeds 500\n"
   ]
  },
  {
   "cell_type": "code",
   "execution_count": 48,
   "id": "746f405c",
   "metadata": {},
   "outputs": [
    {
     "name": "stdout",
     "output_type": "stream",
     "text": [
      "the random integer between 1 and 100  is  62\n",
      "new total 62\n",
      "the random integer between 1 and 100  is  2\n",
      "new total 64\n",
      "the random integer between 1 and 100  is  39\n",
      "new total 103\n",
      "the random integer between 1 and 100  is  86\n",
      "new total 189\n",
      "the random integer between 1 and 100  is  8\n",
      "new total 197\n",
      "the random integer between 1 and 100  is  54\n",
      "new total 251\n",
      "the random integer between 1 and 100  is  27\n",
      "new total 278\n",
      "the random integer between 1 and 100  is  51\n",
      "new total 329\n",
      "the random integer between 1 and 100  is  88\n",
      "new total 417\n",
      "the random integer between 1 and 100  is  66\n",
      "new total 483\n",
      "the random integer between 1 and 100  is  52\n",
      "new total 535\n",
      "break statement executedand the while loop ran this many times -> 11\n"
     ]
    }
   ],
   "source": [
    "import random\n",
    "total = 0\n",
    "counter = 0\n",
    "max_sum = 500\n",
    "\n",
    "while True: #run this no matter what and is MORE EFFICIENT than \"while != 6\"\n",
    "    counter += 1\n",
    "    random_number = random.randint(1,100)\n",
    "    print(\"the random integer between 1 and 100  is \", random_number)\n",
    "    total = total + random_number\n",
    "    print(\"new total\", total)\n",
    "    if total >= 500:\n",
    "        break\n",
    "        \n",
    "print(\"break statement executedand the while loop ran this many times ->\", counter)    "
   ]
  },
  {
   "cell_type": "code",
   "execution_count": null,
   "id": "8ff9ff0a",
   "metadata": {},
   "outputs": [],
   "source": [
    "#this is class solution\n",
    "import random\n",
    "sum_random = 0\n",
    "while sum_random <= 500:\n",
    "    sum_random += random.randomint(1,100)\n",
    "print(sum_random)"
   ]
  },
  {
   "cell_type": "markdown",
   "id": "7b8be386",
   "metadata": {},
   "source": [
    "### Problem 10:\n",
    "#### Using a 'while' loop, find the smallest power of 3 that is greater than 1000"
   ]
  },
  {
   "cell_type": "code",
   "execution_count": null,
   "id": "99afae81",
   "metadata": {},
   "outputs": [],
   "source": [
    "value = 3\n",
    "power = 0\n",
    "#exponent = value**power\n",
    "#smallest_power = power\n",
    "\n",
    "while True:\n",
    "   \n",
    "    something = value ** to_the_new_value.\n",
    "     if something > 1000:\n",
    "            break\n",
    "\n",
    "            \n",
    "            \n"
   ]
  },
  {
   "cell_type": "code",
   "execution_count": null,
   "id": "4d15da2b",
   "metadata": {},
   "outputs": [],
   "source": [
    "#class solution\n",
    "power_of_3 = 1\n",
    "while power_of_3 <= 100:\n",
    "    power_of_3 *= 3\n",
    "print(power_of_3)\n",
    "    "
   ]
  }
 ],
 "metadata": {
  "kernelspec": {
   "display_name": "Python 3 (ipykernel)",
   "language": "python",
   "name": "python3"
  },
  "language_info": {
   "codemirror_mode": {
    "name": "ipython",
    "version": 3
   },
   "file_extension": ".py",
   "mimetype": "text/x-python",
   "name": "python",
   "nbconvert_exporter": "python",
   "pygments_lexer": "ipython3",
   "version": "3.11.4"
  }
 },
 "nbformat": 4,
 "nbformat_minor": 5
}
