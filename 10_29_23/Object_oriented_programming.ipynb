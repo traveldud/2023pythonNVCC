{
 "cells": [
  {
   "cell_type": "markdown",
   "id": "3ac32a5a",
   "metadata": {},
   "source": [
    "### Create a Robot Object"
   ]
  },
  {
   "cell_type": "code",
   "execution_count": 1,
   "id": "f2dcaf3c",
   "metadata": {},
   "outputs": [],
   "source": [
    "class Robot():  #always start with and capital letter and upper camelcase led by \"class\"\n",
    "    # Body for the Robot Object\n",
    "    pass\n",
    "    "
   ]
  },
  {
   "cell_type": "code",
   "execution_count": 29,
   "id": "e973e1b1",
   "metadata": {},
   "outputs": [],
   "source": [
    "optimusPrime = Robot()\n",
    "optimusPrime.name = \"Optimus\""
   ]
  },
  {
   "cell_type": "code",
   "execution_count": 31,
   "id": "b7bce324",
   "metadata": {},
   "outputs": [
    {
     "data": {
      "text/plain": [
       "'Optimus'"
      ]
     },
     "execution_count": 31,
     "metadata": {},
     "output_type": "execute_result"
    }
   ],
   "source": [
    "optimusPrime.name"
   ]
  },
  {
   "cell_type": "code",
   "execution_count": 32,
   "id": "72b5b533",
   "metadata": {},
   "outputs": [],
   "source": [
    "optimusPrime.name = \"Megatron\""
   ]
  },
  {
   "cell_type": "code",
   "execution_count": 33,
   "id": "6c5e34c8",
   "metadata": {},
   "outputs": [
    {
     "data": {
      "text/plain": [
       "'Megatron'"
      ]
     },
     "execution_count": 33,
     "metadata": {},
     "output_type": "execute_result"
    }
   ],
   "source": [
    "optimusPrime.name"
   ]
  },
  {
   "cell_type": "code",
   "execution_count": 34,
   "id": "26793356",
   "metadata": {},
   "outputs": [
    {
     "ename": "NameError",
     "evalue": "name 'robot' is not defined",
     "output_type": "error",
     "traceback": [
      "\u001b[1;31m---------------------------------------------------------------------------\u001b[0m",
      "\u001b[1;31mNameError\u001b[0m                                 Traceback (most recent call last)",
      "Cell \u001b[1;32mIn[34], line 1\u001b[0m\n\u001b[1;32m----> 1\u001b[0m optimusPrime2 \u001b[38;5;241m=\u001b[39m robot()\n\u001b[0;32m      2\u001b[0m optimusPrime2\u001b[38;5;241m.\u001b[39mname\n",
      "\u001b[1;31mNameError\u001b[0m: name 'robot' is not defined"
     ]
    }
   ],
   "source": [
    "optimusPrime2 = robot()\n",
    "optimusPrime2.name #delineating is that the instance of Class Robot() OptimusPrime has the name set\n",
    "# in its object, but optimusp\\Prime2 has not yet and it's not set in the Robot() class"
   ]
  },
  {
   "cell_type": "code",
   "execution_count": 8,
   "id": "ef2f3118",
   "metadata": {},
   "outputs": [],
   "source": [
    "steelMan = Robot()"
   ]
  },
  {
   "cell_type": "code",
   "execution_count": null,
   "id": "3b94266e",
   "metadata": {},
   "outputs": [],
   "source": []
  },
  {
   "cell_type": "code",
   "execution_count": 9,
   "id": "8c48cfee",
   "metadata": {},
   "outputs": [],
   "source": [
    "ultraMan = Robot()"
   ]
  },
  {
   "cell_type": "code",
   "execution_count": 13,
   "id": "6efa9d34",
   "metadata": {},
   "outputs": [
    {
     "data": {
      "text/plain": [
       "(2750428684368, 2750432319120)"
      ]
     },
     "execution_count": 13,
     "metadata": {},
     "output_type": "execute_result"
    }
   ],
   "source": [
    "id(optimusPrime), id(steelMan)\n"
   ]
  },
  {
   "cell_type": "code",
   "execution_count": 80,
   "id": "6dac4157",
   "metadata": {},
   "outputs": [],
   "source": [
    "# Hello I am Optimus Prime\n",
    "class NewRobot():\n",
    "    #Define an constructor\n",
    "    def __init__(self, name, model):\n",
    "        self.name = name #these are local in context only\n",
    "        self.model = model\n",
    "        self.battery = 100\n",
    "        \n",
    "    def display_info(self):\n",
    "        print(\"Robot Name: \", self.name)\n",
    "        print(\"RobModel: \", self.model)\n",
    "        print(\"Battery Level: \", self.battery)\n",
    "        \n",
    "    def get_name_and_model(self):\n",
    "        print(f\"Robot name:  '{self.name}' and model: {self.model}\")\n",
    "        \n",
    "    def displayBatteryLevel(self):\n",
    "        print(\"Display Battery level:  \", self.battery)\n",
    "              \n",
    "\n",
    "# print(\"Hello, my name is \", name)"
   ]
  },
  {
   "cell_type": "code",
   "execution_count": 81,
   "id": "90fd0428",
   "metadata": {},
   "outputs": [
    {
     "data": {
      "text/plain": [
       "2750393544640"
      ]
     },
     "execution_count": 81,
     "metadata": {},
     "output_type": "execute_result"
    }
   ],
   "source": [
    "id(NewRobot)"
   ]
  },
  {
   "cell_type": "code",
   "execution_count": 82,
   "id": "61064a57",
   "metadata": {},
   "outputs": [],
   "source": [
    "newOptimusPrime = NewRobot(\"OptimusPrime\", 1.0) #a new object from the class NewRobot"
   ]
  },
  {
   "cell_type": "code",
   "execution_count": 83,
   "id": "e118b6cd",
   "metadata": {},
   "outputs": [
    {
     "data": {
      "text/plain": [
       "100"
      ]
     },
     "execution_count": 83,
     "metadata": {},
     "output_type": "execute_result"
    }
   ],
   "source": [
    "newOptimusPrime.name\n",
    "newOptimusPrime.battery\n"
   ]
  },
  {
   "cell_type": "code",
   "execution_count": 84,
   "id": "a9a38b9e",
   "metadata": {},
   "outputs": [
    {
     "name": "stdout",
     "output_type": "stream",
     "text": [
      "Robot Name:  Steel Man\n",
      "RobModel:  SM3000\n",
      "Battery Level:  100\n"
     ]
    }
   ],
   "source": [
    "newSteelMan = NewRobot(name = \"Steel Man\", model = \"SM3000\")\n",
    "newSteelMan.display_info()"
   ]
  },
  {
   "cell_type": "code",
   "execution_count": 85,
   "id": "74d87b95",
   "metadata": {},
   "outputs": [
    {
     "data": {
      "text/plain": [
       "'Steel Man'"
      ]
     },
     "execution_count": 85,
     "metadata": {},
     "output_type": "execute_result"
    }
   ],
   "source": [
    "newSteelMan.name"
   ]
  },
  {
   "cell_type": "code",
   "execution_count": 86,
   "id": "18665f2d",
   "metadata": {},
   "outputs": [
    {
     "name": "stdout",
     "output_type": "stream",
     "text": [
      "Robot name:  'Steel Man' and model: SM3000\n"
     ]
    }
   ],
   "source": [
    "newSteelMan.get_name_and_model()"
   ]
  },
  {
   "cell_type": "code",
   "execution_count": 87,
   "id": "6aaf95eb",
   "metadata": {},
   "outputs": [
    {
     "name": "stdout",
     "output_type": "stream",
     "text": [
      "Display Battery level:   100\n"
     ]
    }
   ],
   "source": [
    "newSteelMan.displayBatteryLevel()"
   ]
  },
  {
   "cell_type": "code",
   "execution_count": null,
   "id": "e2574ad9",
   "metadata": {},
   "outputs": [],
   "source": []
  }
 ],
 "metadata": {
  "kernelspec": {
   "display_name": "Python 3 (ipykernel)",
   "language": "python",
   "name": "python3"
  },
  "language_info": {
   "codemirror_mode": {
    "name": "ipython",
    "version": 3
   },
   "file_extension": ".py",
   "mimetype": "text/x-python",
   "name": "python",
   "nbconvert_exporter": "python",
   "pygments_lexer": "ipython3",
   "version": "3.11.4"
  }
 },
 "nbformat": 4,
 "nbformat_minor": 5
}
