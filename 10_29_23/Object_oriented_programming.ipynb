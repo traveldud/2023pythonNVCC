{
 "cells": [
  {
   "cell_type": "markdown",
   "id": "78f3a4de",
   "metadata": {},
   "source": [
    "### Create a Robot Object"
   ]
  },
  {
   "cell_type": "code",
   "execution_count": 1,
   "id": "a2674783",
   "metadata": {},
   "outputs": [],
   "source": [
    "class Robot():  #always start with and capital letter and upper camelcase led by \"class\"\n",
    "    # Body for the Robot Object\n",
    "    pass\n",
    "    "
   ]
  },
  {
   "cell_type": "code",
   "execution_count": 2,
   "id": "e43f6d4e",
   "metadata": {},
   "outputs": [],
   "source": [
    "optimusPrime = Robot()"
   ]
  },
  {
   "cell_type": "code",
   "execution_count": 8,
   "id": "22fd388d",
   "metadata": {},
   "outputs": [],
   "source": [
    "steelMan = Robot()"
   ]
  },
  {
   "cell_type": "code",
   "execution_count": 9,
   "id": "e2e81917",
   "metadata": {},
   "outputs": [],
   "source": [
    "ultraMan = Robot()"
   ]
  },
  {
   "cell_type": "code",
   "execution_count": 13,
   "id": "b47ef766",
   "metadata": {},
   "outputs": [
    {
     "data": {
      "text/plain": [
       "(2750428684368, 2750432319120)"
      ]
     },
     "execution_count": 13,
     "metadata": {},
     "output_type": "execute_result"
    }
   ],
   "source": [
    "id(optimusPrime), id(steelMan)\n"
   ]
  },
  {
   "cell_type": "code",
   "execution_count": 19,
   "id": "4c8acb99",
   "metadata": {},
   "outputs": [],
   "source": [
    "# Hello I am Optimus Prime\n",
    "class NewRobot():\n",
    "    #Define an constructor\n",
    "    def __init__(self, name, model):\n",
    "        self.name = name #these are local in context only\n",
    "        self.model = model\n",
    "        self.battery = 100\n",
    "\n",
    "# print(\"Hello, my name is \", name)"
   ]
  },
  {
   "cell_type": "code",
   "execution_count": 20,
   "id": "cc1d1e3c",
   "metadata": {},
   "outputs": [
    {
     "data": {
      "text/plain": [
       "2750393558304"
      ]
     },
     "execution_count": 20,
     "metadata": {},
     "output_type": "execute_result"
    }
   ],
   "source": [
    "id(NewRobot)"
   ]
  },
  {
   "cell_type": "code",
   "execution_count": 25,
   "id": "e8666ac2",
   "metadata": {},
   "outputs": [],
   "source": [
    "newOptimusPrime = NewRobot(\"OptimusPrime\", 1.0) #a new object from the class NewRobot"
   ]
  },
  {
   "cell_type": "code",
   "execution_count": 28,
   "id": "c4240506",
   "metadata": {},
   "outputs": [
    {
     "data": {
      "text/plain": [
       "100"
      ]
     },
     "execution_count": 28,
     "metadata": {},
     "output_type": "execute_result"
    }
   ],
   "source": [
    "newOptimusPrime.name\n",
    "newOptimusPrime.battery\n"
   ]
  },
  {
   "cell_type": "code",
   "execution_count": null,
   "id": "c50763e8",
   "metadata": {},
   "outputs": [],
   "source": []
  }
 ],
 "metadata": {
  "kernelspec": {
   "display_name": "Python 3 (ipykernel)",
   "language": "python",
   "name": "python3"
  },
  "language_info": {
   "codemirror_mode": {
    "name": "ipython",
    "version": 3
   },
   "file_extension": ".py",
   "mimetype": "text/x-python",
   "name": "python",
   "nbconvert_exporter": "python",
   "pygments_lexer": "ipython3",
   "version": "3.11.4"
  }
 },
 "nbformat": 4,
 "nbformat_minor": 5
}
