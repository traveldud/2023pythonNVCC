{
 "cells": [
  {
   "cell_type": "code",
   "execution_count": 1,
   "id": "26c608d2",
   "metadata": {},
   "outputs": [
    {
     "name": "stdout",
     "output_type": "stream",
     "text": [
      "Pickling Lists\n"
     ]
    }
   ],
   "source": [
    "import pickle #concept for serialization in python which is a quick less memory intensive\n",
    "              #means of manipulating data (vs. excel spreadsheet, etc)\n",
    "\n",
    "print(\"Pickling Lists\")\n",
    "variety = ['sweet','hot','dill']\n",
    "shape = ['shape','spear','chip']\n",
    "brand = ['Claussen', 'Heinz', 'Vlassic']\n",
    "\n",
    "file = open(\"pickles.dat\", 'wb')  #'wb' = write binary\n",
    "\n",
    "pickle.dump(variety, file)\n",
    "pickle.dump(shape, file)\n",
    "pickle.dump(brand, file)\n",
    "\n",
    "file.close()\n",
    "\n"
   ]
  },
  {
   "cell_type": "code",
   "execution_count": 6,
   "id": "7ef2a854",
   "metadata": {},
   "outputs": [
    {
     "name": "stdout",
     "output_type": "stream",
     "text": [
      "Unpickle Lists\n"
     ]
    },
    {
     "data": {
      "text/plain": [
       "(['sweet', 'hot', 'dill'],\n",
       " ['shape', 'spear', 'chip'],\n",
       " ['Claussen', 'Heinz', 'Vlassic'])"
      ]
     },
     "execution_count": 6,
     "metadata": {},
     "output_type": "execute_result"
    }
   ],
   "source": [
    "# Deserialization - unpickling\n",
    "import pickle\n",
    "\n",
    "print(\"Unpickle Lists\")\n",
    "f = open(\"pickles.dat\", \"rb\")\n",
    "variety = pickle.load(f)\n",
    "shape = pickle.load(f)\n",
    "brand = pickle.load(f)\n",
    "variety, shape, brand"
   ]
  },
  {
   "cell_type": "code",
   "execution_count": null,
   "id": "55002ce4",
   "metadata": {},
   "outputs": [],
   "source": []
  }
 ],
 "metadata": {
  "kernelspec": {
   "display_name": "Python 3 (ipykernel)",
   "language": "python",
   "name": "python3"
  },
  "language_info": {
   "codemirror_mode": {
    "name": "ipython",
    "version": 3
   },
   "file_extension": ".py",
   "mimetype": "text/x-python",
   "name": "python",
   "nbconvert_exporter": "python",
   "pygments_lexer": "ipython3",
   "version": "3.11.4"
  }
 },
 "nbformat": 4,
 "nbformat_minor": 5
}
