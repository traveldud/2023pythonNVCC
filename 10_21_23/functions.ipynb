{
 "cells": [
  {
   "cell_type": "markdown",
   "id": "14d0ee4c",
   "metadata": {},
   "source": []
  },
  {
   "cell_type": "code",
   "execution_count": 1,
   "id": "1e5439e5",
   "metadata": {},
   "outputs": [
    {
     "data": {
      "text/plain": [
       "'\\n\\nPseudo code for python function\\ndef funtion_name(parameters_list):\\n    statements --> This is inside the function body\\n    \\n'"
      ]
     },
     "execution_count": 1,
     "metadata": {},
     "output_type": "execute_result"
    }
   ],
   "source": [
    "\"\"\"\n",
    "\n",
    "Pseudo code for python function\n",
    "def funtion_name(parameters_list): #always start with\n",
    "    statements --> This is inside the function body\n",
    "    \n",
    "\"\"\"\n",
    "\n"
   ]
  },
  {
   "cell_type": "code",
   "execution_count": 5,
   "id": "5de1494c",
   "metadata": {},
   "outputs": [],
   "source": [
    "def summation(x,y):\n",
    "    return x + y  "
   ]
  },
  {
   "cell_type": "markdown",
   "id": "95897848",
   "metadata": {},
   "source": [
    "#### the next two are acceptal different styling function\n",
    "#### functions are \"first class objects\" or higher priority in memory,  they are executed first"
   ]
  },
  {
   "cell_type": "code",
   "execution_count": 6,
   "id": "2e5cc565",
   "metadata": {},
   "outputs": [],
   "source": [
    "def sum_numbers(x,y):\n",
    "    return x + y"
   ]
  },
  {
   "cell_type": "code",
   "execution_count": 7,
   "id": "ebffa216",
   "metadata": {},
   "outputs": [],
   "source": [
    "def sumNumber(x,y):\n",
    "    return x + y"
   ]
  },
  {
   "cell_type": "code",
   "execution_count": 8,
   "id": "c0a03953",
   "metadata": {},
   "outputs": [
    {
     "data": {
      "text/plain": [
       "5"
      ]
     },
     "execution_count": 8,
     "metadata": {},
     "output_type": "execute_result"
    }
   ],
   "source": [
    "summation(2,3)"
   ]
  },
  {
   "cell_type": "code",
   "execution_count": 9,
   "id": "3f16bae1",
   "metadata": {},
   "outputs": [
    {
     "data": {
      "text/plain": [
       "5"
      ]
     },
     "execution_count": 9,
     "metadata": {},
     "output_type": "execute_result"
    }
   ],
   "source": [
    "a=2\n",
    "b=3\n",
    "summation(a,b)"
   ]
  },
  {
   "cell_type": "code",
   "execution_count": 11,
   "id": "707e600c",
   "metadata": {},
   "outputs": [
    {
     "data": {
      "text/plain": [
       "5"
      ]
     },
     "execution_count": 11,
     "metadata": {},
     "output_type": "execute_result"
    }
   ],
   "source": [
    "sum_numbers(2,3)"
   ]
  },
  {
   "cell_type": "code",
   "execution_count": 12,
   "id": "3ce23ccd",
   "metadata": {},
   "outputs": [
    {
     "data": {
      "text/plain": [
       "5"
      ]
     },
     "execution_count": 12,
     "metadata": {},
     "output_type": "execute_result"
    }
   ],
   "source": [
    "sumNumber(2,3)"
   ]
  },
  {
   "cell_type": "code",
   "execution_count": 13,
   "id": "3c6bfe21",
   "metadata": {},
   "outputs": [
    {
     "data": {
      "text/plain": [
       "125"
      ]
     },
     "execution_count": 13,
     "metadata": {},
     "output_type": "execute_result"
    }
   ],
   "source": [
    "sum_numbers(2,3)*sumNumber(2,3)*summation(2,3)"
   ]
  },
  {
   "cell_type": "markdown",
   "id": "148b8669",
   "metadata": {},
   "source": [
    "#### Exer1: Write a funtion that reeturns the max of two numbed"
   ]
  },
  {
   "cell_type": "code",
   "execution_count": 15,
   "id": "a1c4c4c1",
   "metadata": {},
   "outputs": [],
   "source": [
    "def max_of_two(a,b):\n",
    "    return a if a > b else b"
   ]
  },
  {
   "cell_type": "code",
   "execution_count": 16,
   "id": "9a742d74",
   "metadata": {},
   "outputs": [
    {
     "data": {
      "text/plain": [
       "4"
      ]
     },
     "execution_count": 16,
     "metadata": {},
     "output_type": "execute_result"
    }
   ],
   "source": [
    "max_of_two(3,4)"
   ]
  },
  {
   "cell_type": "markdown",
   "id": "efb842b0",
   "metadata": {},
   "source": [
    "#### Ex 2:  Write a functiono that checks whether a number is even or not"
   ]
  },
  {
   "cell_type": "code",
   "execution_count": 20,
   "id": "8af30cd8",
   "metadata": {},
   "outputs": [],
   "source": [
    "def isEven(num):\n",
    "    return num % 2 == 0  #modulo operator"
   ]
  },
  {
   "cell_type": "code",
   "execution_count": 21,
   "id": "21297c19",
   "metadata": {},
   "outputs": [
    {
     "data": {
      "text/plain": [
       "False"
      ]
     },
     "execution_count": 21,
     "metadata": {},
     "output_type": "execute_result"
    }
   ],
   "source": [
    "isEven(3)"
   ]
  },
  {
   "cell_type": "code",
   "execution_count": 22,
   "id": "0ba421b4",
   "metadata": {},
   "outputs": [
    {
     "data": {
      "text/plain": [
       "True"
      ]
     },
     "execution_count": 22,
     "metadata": {},
     "output_type": "execute_result"
    }
   ],
   "source": [
    "isEven(4)"
   ]
  },
  {
   "cell_type": "markdown",
   "id": "3427ad77",
   "metadata": {},
   "source": [
    "#### Ex 3: Write a function that calculates the factorial of a given number"
   ]
  },
  {
   "cell_type": "code",
   "execution_count": 40,
   "id": "496701f8",
   "metadata": {},
   "outputs": [
    {
     "ename": "IndentationError",
     "evalue": "unindent does not match any outer indentation level (<tokenize>, line 10)",
     "output_type": "error",
     "traceback": [
      "\u001b[1;36m  File \u001b[1;32m<tokenize>:10\u001b[1;36m\u001b[0m\n\u001b[1;33m    fact = (n*factorial(n-1))\u001b[0m\n\u001b[1;37m    ^\u001b[0m\n\u001b[1;31mIndentationError\u001b[0m\u001b[1;31m:\u001b[0m unindent does not match any outer indentation level\n"
     ]
    }
   ],
   "source": [
    "def factorial(n):  #recursive functions - calling same function(s) inside of a function \n",
    "    if n == 0:\n",
    "        return 1\n",
    "        \n",
    "'''    print (n)\n",
    "    z = n* factorial(n-1)\n",
    "    return z '''\n",
    "\n",
    "    print(n)\n",
    "    fact = (n*factorial(n-1))\n",
    "    return fact         \n",
    "    #return (n*factorial(n-1))"
   ]
  },
  {
   "cell_type": "code",
   "execution_count": 34,
   "id": "3cda8063",
   "metadata": {},
   "outputs": [
    {
     "ename": "UnboundLocalError",
     "evalue": "cannot access local variable 'fact' where it is not associated with a value",
     "output_type": "error",
     "traceback": [
      "\u001b[1;31m---------------------------------------------------------------------------\u001b[0m",
      "\u001b[1;31mUnboundLocalError\u001b[0m                         Traceback (most recent call last)",
      "Cell \u001b[1;32mIn[34], line 1\u001b[0m\n\u001b[1;32m----> 1\u001b[0m factorial(\u001b[38;5;241m5\u001b[39m)\n",
      "Cell \u001b[1;32mIn[33], line 4\u001b[0m, in \u001b[0;36mfactorial\u001b[1;34m(n)\u001b[0m\n\u001b[0;32m      2\u001b[0m \u001b[38;5;28;01mif\u001b[39;00m n \u001b[38;5;241m==\u001b[39m \u001b[38;5;241m0\u001b[39m:\n\u001b[0;32m      3\u001b[0m     \u001b[38;5;28;01mreturn\u001b[39;00m \u001b[38;5;241m1\u001b[39m\n\u001b[1;32m----> 4\u001b[0m \u001b[38;5;28mprint\u001b[39m(fact)\n\u001b[0;32m      5\u001b[0m fact \u001b[38;5;241m=\u001b[39m ((n\u001b[38;5;241m*\u001b[39mfactorial(n\u001b[38;5;241m-\u001b[39m\u001b[38;5;241m1\u001b[39m)))\n\u001b[0;32m      7\u001b[0m \u001b[38;5;28;01mreturn\u001b[39;00m fact\n",
      "\u001b[1;31mUnboundLocalError\u001b[0m: cannot access local variable 'fact' where it is not associated with a value"
     ]
    }
   ],
   "source": [
    "factorial(5)  # "
   ]
  },
  {
   "cell_type": "markdown",
   "id": "05ac5aef",
   "metadata": {},
   "source": [
    "### Sets\n",
    "* the data type \"set\", is a collection type.  A set in python is an unordered collection of unique and immutable objects"
   ]
  },
  {
   "cell_type": "code",
   "execution_count": 42,
   "id": "25175adb",
   "metadata": {},
   "outputs": [
    {
     "data": {
      "text/plain": [
       "{' ', 'A', 'P', 'T', 'a', 'h', 'i', 'l', 'n', 'o', 'r', 't', 'u', 'y'}"
      ]
     },
     "execution_count": 42,
     "metadata": {},
     "output_type": "execute_result"
    }
   ],
   "source": [
    "x = set(\"A Python Tutorial\")\n",
    "x"
   ]
  },
  {
   "cell_type": "code",
   "execution_count": 45,
   "id": "0654e730",
   "metadata": {},
   "outputs": [
    {
     "data": {
      "text/plain": [
       "{1, 2, 3}"
      ]
     },
     "execution_count": 45,
     "metadata": {},
     "output_type": "execute_result"
    }
   ],
   "source": [
    "s = set()  #don't rely on set to maintain the unordered order\n",
    "s.add(2)\n",
    "s.add(1)\n",
    "s.add(3)\n",
    "s"
   ]
  },
  {
   "cell_type": "markdown",
   "id": "b7fa94a0",
   "metadata": {},
   "source": [
    "####"
   ]
  },
  {
   "cell_type": "code",
   "execution_count": null,
   "id": "bbcb4c78",
   "metadata": {},
   "outputs": [],
   "source": []
  },
  {
   "cell_type": "markdown",
   "id": "795549e0",
   "metadata": {},
   "source": [
    "#### Ex 4: Write a function that takes a list and returns a new list of unique elements"
   ]
  },
  {
   "cell_type": "code",
   "execution_count": 46,
   "id": "9ace9179",
   "metadata": {},
   "outputs": [],
   "source": [
    "def uniqueList(lst):\n",
    "    return list(set(lst))"
   ]
  },
  {
   "cell_type": "code",
   "execution_count": 47,
   "id": "52cc995c",
   "metadata": {},
   "outputs": [
    {
     "data": {
      "text/plain": [
       "[1, 2, 3, 4, 5, 6, 7]"
      ]
     },
     "execution_count": 47,
     "metadata": {},
     "output_type": "execute_result"
    }
   ],
   "source": [
    "uniqueList([1,2,3,3,5,5,6,7,6,4]) #set()"
   ]
  },
  {
   "cell_type": "markdown",
   "id": "b5f6c561",
   "metadata": {},
   "source": [
    "####  DOM, Scrapy (for APIs) and use python (based on c and c++) to clean/cull what one wants from it via imported libraries"
   ]
  },
  {
   "cell_type": "markdown",
   "id": "1ddc03e9",
   "metadata": {},
   "source": [
    "#### Ex. 5:  Write a funtion that checks whether a word is a palindrom"
   ]
  },
  {
   "cell_type": "code",
   "execution_count": 55,
   "id": "2aa50d05",
   "metadata": {},
   "outputs": [],
   "source": [
    "def isPalindrome(word):\n",
    "    return word == word[::-1]"
   ]
  },
  {
   "cell_type": "code",
   "execution_count": 56,
   "id": "1cc13a70",
   "metadata": {},
   "outputs": [
    {
     "data": {
      "text/plain": [
       "True"
      ]
     },
     "execution_count": 56,
     "metadata": {},
     "output_type": "execute_result"
    }
   ],
   "source": [
    "isPalindrome(\"radar\")"
   ]
  },
  {
   "cell_type": "code",
   "execution_count": 57,
   "id": "4819cb19",
   "metadata": {},
   "outputs": [
    {
     "data": {
      "text/plain": [
       "False"
      ]
     },
     "execution_count": 57,
     "metadata": {},
     "output_type": "execute_result"
    }
   ],
   "source": [
    "isPalindrome(\"booger\")"
   ]
  },
  {
   "cell_type": "code",
   "execution_count": 58,
   "id": "308b9af0",
   "metadata": {},
   "outputs": [
    {
     "data": {
      "text/plain": [
       "True"
      ]
     },
     "execution_count": 58,
     "metadata": {},
     "output_type": "execute_result"
    }
   ],
   "source": [
    "isPalindrome('madam')"
   ]
  },
  {
   "cell_type": "markdown",
   "id": "2af262be",
   "metadata": {},
   "source": [
    "#### Ex 6.:  write a function that calculates the sum of all numbers in a list"
   ]
  },
  {
   "cell_type": "code",
   "execution_count": 59,
   "id": "c278c923",
   "metadata": {},
   "outputs": [],
   "source": [
    "def sum_of_list(lst):\n",
    "    return sum(lst)"
   ]
  },
  {
   "cell_type": "code",
   "execution_count": 62,
   "id": "8d2cf2b6",
   "metadata": {},
   "outputs": [
    {
     "data": {
      "text/plain": [
       "42"
      ]
     },
     "execution_count": 62,
     "metadata": {},
     "output_type": "execute_result"
    }
   ],
   "source": [
    "x = [1,2,3,3,5,5,6,7,6,4]\n",
    "#sum_of_list([1,2,3,3,5,5,6,7,6,4])\n",
    "sum_of_list(x)"
   ]
  },
  {
   "cell_type": "code",
   "execution_count": 64,
   "id": "5d01dd63",
   "metadata": {},
   "outputs": [
    {
     "ename": "SyntaxError",
     "evalue": "incomplete input (2619931167.py, line 3)",
     "output_type": "error",
     "traceback": [
      "\u001b[1;36m  Cell \u001b[1;32mIn[64], line 3\u001b[1;36m\u001b[0m\n\u001b[1;33m    sum_of_list(y)\u001b[0m\n\u001b[1;37m                  ^\u001b[0m\n\u001b[1;31mSyntaxError\u001b[0m\u001b[1;31m:\u001b[0m incomplete input\n"
     ]
    }
   ],
   "source": [
    "y = [1,2,3,3,5,5,6,7,6,#]\n",
    "#sum_of_list([1,2,3,3,5,5,6,7,6,4])\n",
    "sum_of_list(y)"
   ]
  },
  {
   "cell_type": "markdown",
   "id": "4ce15b30",
   "metadata": {},
   "source": [
    "### Ex7. Write a function to filter non numeric elements in a list and return a list of numbers\n",
    "* then use the above list returned and apply sum()"
   ]
  },
  {
   "cell_type": "code",
   "execution_count": null,
   "id": "86720e4c",
   "metadata": {},
   "outputs": [],
   "source": [
    "def filter_nonNumeric(lst):\n",
    "    new_list = []\n",
    "    for item in lst:\n",
    "        if int(item)\n",
    "            new_list = new_list.append(item)\n",
    "    \n",
    "return new_list\n",
    "\n",
    "    \n",
    "#is item a letter....  value = int(value)\n",
    "#type()?\n",
    "        \n",
    "        "
   ]
  },
  {
   "cell_type": "code",
   "execution_count": null,
   "id": "48dbc0a7",
   "metadata": {},
   "outputs": [],
   "source": [
    "lst = [1, 'f', 2]\n",
    "filter_nonNumeric(lst)"
   ]
  },
  {
   "cell_type": "markdown",
   "id": "40d73fff",
   "metadata": {},
   "source": [
    "#### Ex8.  Write a function that takes a string and returns the number of upper case and lower case letters"
   ]
  },
  {
   "cell_type": "code",
   "execution_count": 101,
   "id": "70aa840a",
   "metadata": {},
   "outputs": [],
   "source": [
    "def countCase(s):\n",
    "    lower, upper = 0, 0\n",
    "    for char in s:\n",
    "        if char.islower():\n",
    "            lower += 1\n",
    "        elif char.isupper():\n",
    "            upper +=1 \n",
    "    #return lower, upper\n",
    "    return upper, lower\n"
   ]
  },
  {
   "cell_type": "code",
   "execution_count": 102,
   "id": "9c3c8a53",
   "metadata": {},
   "outputs": [
    {
     "data": {
      "text/plain": [
       "(2, 10)"
      ]
     },
     "execution_count": 102,
     "metadata": {},
     "output_type": "execute_result"
    }
   ],
   "source": [
    "stringStuff = \";lasjkdffjKKf\"\n",
    "countCase(stringStuff)"
   ]
  },
  {
   "cell_type": "code",
   "execution_count": 107,
   "id": "4fa12bf9",
   "metadata": {},
   "outputs": [],
   "source": [
    "#upper, lower = countCase(\"Hello World\")\n",
    "fred, lower = countCase(\"Hello World\")"
   ]
  },
  {
   "cell_type": "code",
   "execution_count": 105,
   "id": "777775b4",
   "metadata": {},
   "outputs": [
    {
     "data": {
      "text/plain": [
       "2"
      ]
     },
     "execution_count": 105,
     "metadata": {},
     "output_type": "execute_result"
    }
   ],
   "source": [
    "fred"
   ]
  },
  {
   "cell_type": "code",
   "execution_count": 106,
   "id": "03005974",
   "metadata": {},
   "outputs": [
    {
     "data": {
      "text/plain": [
       "8"
      ]
     },
     "execution_count": 106,
     "metadata": {},
     "output_type": "execute_result"
    }
   ],
   "source": [
    "lower"
   ]
  },
  {
   "cell_type": "code",
   "execution_count": 108,
   "id": "a95fcc9a",
   "metadata": {},
   "outputs": [],
   "source": [
    "### Python can return multiple values\n",
    "def myFunc():\n",
    "    return 1, 2, 3\n"
   ]
  },
  {
   "cell_type": "code",
   "execution_count": 119,
   "id": "183cc122",
   "metadata": {},
   "outputs": [
    {
     "data": {
      "text/plain": [
       "(1, 2, 3)"
      ]
     },
     "execution_count": 119,
     "metadata": {},
     "output_type": "execute_result"
    }
   ],
   "source": [
    "a = myFunc()\n",
    "a"
   ]
  },
  {
   "cell_type": "code",
   "execution_count": 116,
   "id": "a1f07b57",
   "metadata": {},
   "outputs": [],
   "source": [
    "x,y,z = myFunc()"
   ]
  },
  {
   "cell_type": "code",
   "execution_count": 117,
   "id": "84321ea1",
   "metadata": {},
   "outputs": [
    {
     "data": {
      "text/plain": [
       "1"
      ]
     },
     "execution_count": 117,
     "metadata": {},
     "output_type": "execute_result"
    }
   ],
   "source": [
    "x"
   ]
  },
  {
   "cell_type": "code",
   "execution_count": 118,
   "id": "9af8c463",
   "metadata": {},
   "outputs": [
    {
     "data": {
      "text/plain": [
       "2"
      ]
     },
     "execution_count": 118,
     "metadata": {},
     "output_type": "execute_result"
    }
   ],
   "source": [
    "y"
   ]
  },
  {
   "cell_type": "code",
   "execution_count": 113,
   "id": "1889c9f7",
   "metadata": {},
   "outputs": [
    {
     "data": {
      "text/plain": [
       "3"
      ]
     },
     "execution_count": 113,
     "metadata": {},
     "output_type": "execute_result"
    }
   ],
   "source": [
    "z\n"
   ]
  },
  {
   "cell_type": "markdown",
   "id": "600e327f",
   "metadata": {},
   "source": [
    "#### Ex 9:  Write a function to calc F to C\n"
   ]
  },
  {
   "cell_type": "code",
   "execution_count": 122,
   "id": "b2906acd",
   "metadata": {},
   "outputs": [],
   "source": [
    "def fahrenheit(t_in_celsius):\n",
    "    #return temperature in degrees Fahrenheit from degree celcius\n",
    "    return (t_in_celsius*(9/5)+32)\n",
    "           "
   ]
  },
  {
   "cell_type": "code",
   "execution_count": 123,
   "id": "dcfac59b",
   "metadata": {},
   "outputs": [
    {
     "data": {
      "text/plain": [
       "60.8"
      ]
     },
     "execution_count": 123,
     "metadata": {},
     "output_type": "execute_result"
    }
   ],
   "source": [
    "fahrenheit(16)"
   ]
  },
  {
   "cell_type": "code",
   "execution_count": 124,
   "id": "06eb2298",
   "metadata": {},
   "outputs": [
    {
     "data": {
      "text/plain": [
       "82.4"
      ]
     },
     "execution_count": 124,
     "metadata": {},
     "output_type": "execute_result"
    }
   ],
   "source": [
    "fahrenheit(28)"
   ]
  },
  {
   "cell_type": "code",
   "execution_count": 137,
   "id": "db8f4b82",
   "metadata": {},
   "outputs": [],
   "source": [
    "def celcius(t_in_fahrenheit):\n",
    "    return ((t_in_fahrenheit-32)*5/9)"
   ]
  },
  {
   "cell_type": "code",
   "execution_count": 138,
   "id": "0b38a247",
   "metadata": {},
   "outputs": [
    {
     "data": {
      "text/plain": [
       "27.77777777777778"
      ]
     },
     "execution_count": 138,
     "metadata": {},
     "output_type": "execute_result"
    }
   ],
   "source": [
    "celcius(82)"
   ]
  },
  {
   "cell_type": "code",
   "execution_count": 129,
   "id": "6d26d8b9",
   "metadata": {},
   "outputs": [],
   "source": [
    "tempValue = fahrenheit(38)"
   ]
  },
  {
   "cell_type": "code",
   "execution_count": 135,
   "id": "5a7739c1",
   "metadata": {},
   "outputs": [
    {
     "name": "stdout",
     "output_type": "stream",
     "text": [
      "Fahrenheit for 22.6 is 72.68\n",
      "Fahrenheit for 25.8 is 78.44\n",
      "Fahrenheit for 27.3 is 81.14\n",
      "Fahrenheit for 29.8 is 85.64\n"
     ]
    }
   ],
   "source": [
    "lstTemp = [22.6, 25.8, 27.3, 29.8]\n",
    "for t in  lstTemp:\n",
    "    print(f\"Fahrenheit for\" , t, \"is\", fahrenheit(t))"
   ]
  },
  {
   "cell_type": "markdown",
   "id": "8f118e22",
   "metadata": {},
   "source": [
    "#### Ex. 10:l  Write a function to calculate average for 2 values"
   ]
  },
  {
   "cell_type": "code",
   "execution_count": 141,
   "id": "8094acbd",
   "metadata": {},
   "outputs": [],
   "source": [
    "def average(a, b):\n",
    "    return(a + b)/2"
   ]
  },
  {
   "cell_type": "code",
   "execution_count": 140,
   "id": "86903018",
   "metadata": {},
   "outputs": [
    {
     "data": {
      "text/plain": [
       "5.0"
      ]
     },
     "execution_count": 140,
     "metadata": {},
     "output_type": "execute_result"
    }
   ],
   "source": [
    "x = 5\n",
    "y = 7\n",
    "average(x,5)"
   ]
  },
  {
   "cell_type": "code",
   "execution_count": 148,
   "id": "5b35c8a4",
   "metadata": {},
   "outputs": [],
   "source": [
    "# Variable arguments in Python\n",
    "def avg(intFirst, *intRest):\n",
    "    return(intFirst + sum(intRest))/(len(intRest)+1)"
   ]
  },
  {
   "cell_type": "code",
   "execution_count": 149,
   "id": "c36d0a12",
   "metadata": {},
   "outputs": [
    {
     "data": {
      "text/plain": [
       "4.0"
      ]
     },
     "execution_count": 149,
     "metadata": {},
     "output_type": "execute_result"
    }
   ],
   "source": [
    "avg(2,3,5,6)"
   ]
  },
  {
   "cell_type": "code",
   "execution_count": 150,
   "id": "6b9da6a1",
   "metadata": {},
   "outputs": [
    {
     "data": {
      "text/plain": [
       "5.5"
      ]
     },
     "execution_count": 150,
     "metadata": {},
     "output_type": "execute_result"
    }
   ],
   "source": [
    "avg(1,2,3,4,5,6,7,8,9,10)"
   ]
  },
  {
   "cell_type": "code",
   "execution_count": 179,
   "id": "a8453dac",
   "metadata": {},
   "outputs": [],
   "source": [
    "def unknown_avg(*unknown_number):\n",
    "    return (sum(unknown_number)/len(unknown_number))"
   ]
  },
  {
   "cell_type": "code",
   "execution_count": 180,
   "id": "b00dc664",
   "metadata": {},
   "outputs": [
    {
     "data": {
      "text/plain": [
       "6.0"
      ]
     },
     "execution_count": 180,
     "metadata": {},
     "output_type": "execute_result"
    }
   ],
   "source": [
    "unknown_avg(5,6,7)"
   ]
  },
  {
   "cell_type": "markdown",
   "id": "13723306",
   "metadata": {},
   "source": [
    "#### Ex 11:  Write a function to print a default value when no arguments are passed to the function "
   ]
  },
  {
   "cell_type": "code",
   "execution_count": 175,
   "id": "e5ae4f0e",
   "metadata": {},
   "outputs": [],
   "source": [
    "def Hello(args=\"World\"):\n",
    "    return \"Hello \" + args"
   ]
  },
  {
   "cell_type": "code",
   "execution_count": 177,
   "id": "82638280",
   "metadata": {},
   "outputs": [
    {
     "data": {
      "text/plain": [
       "'Hello peeps'"
      ]
     },
     "execution_count": 177,
     "metadata": {},
     "output_type": "execute_result"
    }
   ],
   "source": [
    "Hello('peeps')"
   ]
  },
  {
   "cell_type": "code",
   "execution_count": 178,
   "id": "fa4c8708",
   "metadata": {},
   "outputs": [
    {
     "data": {
      "text/plain": [
       "'Hello World'"
      ]
     },
     "execution_count": 178,
     "metadata": {},
     "output_type": "execute_result"
    }
   ],
   "source": [
    "Hello()"
   ]
  },
  {
   "cell_type": "markdown",
   "id": "37bd760d",
   "metadata": {},
   "source": [
    "#### Ex 12:  Function argument annotations\n",
    "*  function argument annotations can be useful way to give programmers hints about how a function is supposed to be used"
   ]
  },
  {
   "cell_type": "code",
   "execution_count": 185,
   "id": "5b80942a",
   "metadata": {},
   "outputs": [],
   "source": [
    "def add(x:int, y:int) -> int:\n",
    "    return x + y"
   ]
  },
  {
   "cell_type": "code",
   "execution_count": 186,
   "id": "1e398487",
   "metadata": {},
   "outputs": [
    {
     "name": "stdout",
     "output_type": "stream",
     "text": [
      "Help on function add in module __main__:\n",
      "\n",
      "add(x: int, y: int) -> int\n",
      "\n"
     ]
    }
   ],
   "source": [
    "help(add)"
   ]
  },
  {
   "cell_type": "code",
   "execution_count": 187,
   "id": "7a76b438",
   "metadata": {},
   "outputs": [
    {
     "data": {
      "text/plain": [
       "5"
      ]
     },
     "execution_count": 187,
     "metadata": {},
     "output_type": "execute_result"
    }
   ],
   "source": [
    "add(2, 3)"
   ]
  },
  {
   "cell_type": "code",
   "execution_count": 190,
   "id": "b3dbe868",
   "metadata": {},
   "outputs": [],
   "source": [
    "def subtract(x:int, y:int) -> int:\n",
    "    return x - y"
   ]
  },
  {
   "cell_type": "code",
   "execution_count": 189,
   "id": "8eedd267",
   "metadata": {},
   "outputs": [],
   "source": [
    "def mult(x:int, y:int) -> int:\n",
    "    return x*y"
   ]
  },
  {
   "cell_type": "code",
   "execution_count": 191,
   "id": "60020d98",
   "metadata": {},
   "outputs": [],
   "source": [
    "def dev(x:int, y:int) -> int:\n",
    "    return(x/y)"
   ]
  },
  {
   "cell_type": "code",
   "execution_count": 211,
   "id": "aa02d42d",
   "metadata": {},
   "outputs": [],
   "source": [
    "def sqrt(x:int) -> int:\n",
    "    return (x**1/2)"
   ]
  },
  {
   "cell_type": "markdown",
   "id": "b40572a4",
   "metadata": {},
   "source": [
    "### Ex HOMEWORK:  Write a simple calculator\n",
    "* ask user to perform addition, multiplication, etc with annotation\n",
    "* calculate choice"
   ]
  },
  {
   "cell_type": "code",
   "execution_count": 212,
   "id": "f16340e6",
   "metadata": {},
   "outputs": [
    {
     "name": "stdout",
     "output_type": "stream",
     "text": [
      "we are going to do some basic m,a,s,d\n",
      "I hope it was fun\n"
     ]
    }
   ],
   "source": [
    "print(\"we are going to do some basic m,a,s,d\")\n",
    "\n",
    "while operator != 'q':\n",
    "    operator = input(\"please input '*','/','-','+' for multiplication, etc., 'q' to quit \")\n",
    "    if operator != 'q':\n",
    "        x = int(input(\"first value = x:  \"))\n",
    "        y = int(input(\"second value = y: \"))\n",
    "        if operator == '*':\n",
    "            print(\"your answer is \", mult(x,y))\n",
    "        elif operator == '/':\n",
    "            print(\"your answer is \", dev(x,y))\n",
    "        elif operator == '-':\n",
    "            print(\"your answer is \", subtract(x,y))\n",
    "        elif operator == '+':\n",
    "            print(\"your ansser is \", add(x,y))\n",
    "    \n",
    "print(\"I hope it was fun\")\n",
    "\n",
    "\n"
   ]
  },
  {
   "cell_type": "code",
   "execution_count": null,
   "id": "40904538",
   "metadata": {},
   "outputs": [],
   "source": []
  },
  {
   "cell_type": "code",
   "execution_count": null,
   "id": "baf03df2",
   "metadata": {},
   "outputs": [],
   "source": []
  }
 ],
 "metadata": {
  "kernelspec": {
   "display_name": "Python 3 (ipykernel)",
   "language": "python",
   "name": "python3"
  },
  "language_info": {
   "codemirror_mode": {
    "name": "ipython",
    "version": 3
   },
   "file_extension": ".py",
   "mimetype": "text/x-python",
   "name": "python",
   "nbconvert_exporter": "python",
   "pygments_lexer": "ipython3",
   "version": "3.11.4"
  }
 },
 "nbformat": 4,
 "nbformat_minor": 5
}
