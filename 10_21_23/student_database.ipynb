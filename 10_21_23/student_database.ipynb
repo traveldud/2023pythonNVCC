{
 "cells": [
  {
   "cell_type": "markdown",
   "id": "b9590853",
   "metadata": {},
   "source": [
    "#### Objective:\n",
    "* Create a student database\n",
    "* print report cards for students\n",
    "* add a student\n",
    "* add a mark for a student\n"
   ]
  },
  {
   "cell_type": "code",
   "execution_count": 39,
   "id": "daefd359",
   "metadata": {},
   "outputs": [],
   "source": [
    "students = [[\"Ben\", {\"Maths\": 77, \"English\": 78, \"Science\": 98}],\n",
    "            [\"Mark\", {\"Maths\": 56, \"Art\":95, \"History\": 65, \"Geography\": 55}],\n",
    "            [\"Paul\", {\"English\": 66, \"History\": 88}]]\n",
    "            \n",
    "grades = ((0,\"Fail\"), (50, \"D\"), (60, \"C\"), (70, \"B\"), (80, \"A\"), (101, \"Cheat\"))\n",
    "            \n",
    "\n",
    "            "
   ]
  },
  {
   "cell_type": "code",
   "execution_count": 41,
   "id": "1ef6e837",
   "metadata": {},
   "outputs": [],
   "source": [
    "def print_report_card(report_student = None):\n",
    "    for student in students:\n",
    "        if (student[0] == report_student) or (report_student == None):\n",
    "            print(\"Report card for student\", student[0])\n",
    "            for subject, mark in student[1].items():\n",
    "                for grade in grades:\n",
    "                    if mark < grade[0]:\n",
    "                        print(subject, \":\", prev_grade)\n",
    "                        break\n",
    "                    prev_grade = grade[1] #inline variable local and private/private(?) -> (not yet, next class)\n",
    "                              \n",
    "                              "
   ]
  },
  {
   "cell_type": "code",
   "execution_count": 42,
   "id": "a9de7b0c",
   "metadata": {},
   "outputs": [],
   "source": [
    "def add_student(student_name):\n",
    "    global students\n",
    "    for student in students:\n",
    "        if student[0] == student_name:\n",
    "            return \"Student already in the database\"\n",
    "    students.append([student_name,{}])\n",
    "    return \"Student added successfully\""
   ]
  },
  {
   "cell_type": "code",
   "execution_count": 43,
   "id": "c7e8a4c6",
   "metadata": {},
   "outputs": [],
   "source": [
    "def add_mark(student_name, subject, mark):\n",
    "    global students\n",
    "    for student in students:\n",
    "        if student[0] == student_name:\n",
    "            if subject in student[1].keys():\n",
    "                print(student_name, \"already has a mark for \", subject)\n",
    "                user_input = input(\"Overwrite Y/N? \")\n",
    "                if user_input == \"Y\" or user_input == \"y\":\n",
    "                    student[1][subject] = mark\n",
    "                    return \"Students mark updated\"\n",
    "                else:\n",
    "                    return \"Students mark not updated\"\n",
    "            else:\n",
    "                student[1][subject]=mark\n",
    "                "
   ]
  },
  {
   "cell_type": "code",
   "execution_count": 44,
   "id": "13996374",
   "metadata": {
    "scrolled": true
   },
   "outputs": [
    {
     "name": "stdout",
     "output_type": "stream",
     "text": [
      "\n",
      "Welcome to the student database\n",
      "What can I help you with?\n",
      "Enter 1 to view all report cards\n",
      "Enter 2 to view the report card for a student\n",
      "Enter 3 to add a student\n",
      "Enter 4 to add a mark for student\n",
      "enter 5 to exit\n",
      "\n",
      "Choice: 3\n",
      "Student Name? FREDDY\n",
      "Student added successfully\n",
      "Press enter to continue5\n",
      "\n",
      "Welcome to the student database\n",
      "What can I help you with?\n",
      "Enter 1 to view all report cards\n",
      "Enter 2 to view the report card for a student\n",
      "Enter 3 to add a student\n",
      "Enter 4 to add a mark for student\n",
      "enter 5 to exit\n",
      "\n",
      "Choice: \n",
      "That's not a number I recognize\n",
      "Unknown choice\n",
      "Press enter to continue\n",
      "\n",
      "Welcome to the student database\n",
      "What can I help you with?\n",
      "Enter 1 to view all report cards\n",
      "Enter 2 to view the report card for a student\n",
      "Enter 3 to add a student\n",
      "Enter 4 to add a mark for student\n",
      "enter 5 to exit\n",
      "\n",
      "Choice: 5\n",
      "Thanks for the using the Student Database\n"
     ]
    }
   ],
   "source": [
    "while True:\n",
    "    print()\n",
    "    print(\"Welcome to the student database\")\n",
    "    print(\"What can I help you with?\")\n",
    "    print(\"Enter 1 to view all report cards\")\n",
    "    print(\"Enter 2 to view the report card for a student\")\n",
    "    print(\"Enter 3 to add a student\")\n",
    "    print(\"Enter 4 to add a mark for student\")\n",
    "    print(\"enter 5 to exit\")\n",
    "    print()\n",
    "    \n",
    "    try:\n",
    "        user_choice = int(input(\"Choice: \"))\n",
    "    except ValueError:\n",
    "            print(\"That's not a number I recognize\")\n",
    "            user_choice = 0\n",
    "            \n",
    "    if user_choice == 1:\n",
    "        print_report_card()\n",
    "    elif user_choice == 2:\n",
    "        enter_student = input(\"Which Student?\")\n",
    "        print_report_card(enter_student)\n",
    "    elif user_choice == 3:\n",
    "        enter_student = input(\"Student Name? \")\n",
    "        print(add_student(enter_student))\n",
    "    elif user_choice == 4:\n",
    "        enter_student = input(\"Student Name? \")\n",
    "        enter_subject = input(\"Subject? \")\n",
    "        num_error = True\n",
    "        while num_error:\n",
    "            num_error = False\n",
    "            try:\n",
    "                enter_mark = int(input(\"Mark? \"))\n",
    "            except ValueError:\n",
    "                print(\"I don't recognize that as a number\")\n",
    "                num_error = True\n",
    "        print(add_mark(enter_student, enter_subject, enter_mark))\n",
    "    elif user_choice == 5:\n",
    "        break\n",
    "    else:\n",
    "        print(\"Unknown choice\")\n",
    "    input(\"Press enter to continue\")\n",
    "print(\"Thanks for the using the Student Database\")"
   ]
  },
  {
   "cell_type": "code",
   "execution_count": 45,
   "id": "f52b3aa3",
   "metadata": {},
   "outputs": [
    {
     "name": "stdout",
     "output_type": "stream",
     "text": [
      "[['Ben', {'Maths': 77, 'English': 78, 'Science': 98}], ['Mark', {'Maths': 56, 'Art': 95, 'History': 65, 'Geography': 55}], ['Paul', {'English': 66, 'History': 88}], ['FREDDY', {}]]\n"
     ]
    }
   ],
   "source": [
    "print(students)\n"
   ]
  },
  {
   "cell_type": "code",
   "execution_count": 29,
   "id": "8262d0d3",
   "metadata": {},
   "outputs": [],
   "source": [
    "del students[3]"
   ]
  },
  {
   "cell_type": "code",
   "execution_count": null,
   "id": "668c8cd0",
   "metadata": {},
   "outputs": [],
   "source": []
  }
 ],
 "metadata": {
  "kernelspec": {
   "display_name": "Python 3 (ipykernel)",
   "language": "python",
   "name": "python3"
  },
  "language_info": {
   "codemirror_mode": {
    "name": "ipython",
    "version": 3
   },
   "file_extension": ".py",
   "mimetype": "text/x-python",
   "name": "python",
   "nbconvert_exporter": "python",
   "pygments_lexer": "ipython3",
   "version": "3.11.4"
  }
 },
 "nbformat": 4,
 "nbformat_minor": 5
}
