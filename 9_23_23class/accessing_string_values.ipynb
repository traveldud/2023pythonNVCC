{
 "cells": [
  {
   "cell_type": "code",
   "execution_count": 8,
   "id": "657f9d17",
   "metadata": {},
   "outputs": [
    {
     "ename": "SyntaxError",
     "evalue": "unterminated string literal (detected at line 1) (2387370746.py, line 1)",
     "output_type": "error",
     "traceback": [
      "\u001b[1;36m  Cell \u001b[1;32mIn[8], line 1\u001b[1;36m\u001b[0m\n\u001b[1;33m    print(\"hello\u001b[0m\n\u001b[1;37m          ^\u001b[0m\n\u001b[1;31mSyntaxError\u001b[0m\u001b[1;31m:\u001b[0m unterminated string literal (detected at line 1)\n"
     ]
    }
   ],
   "source": [
    "print(\"hello\n",
    "      world  \")"
   ]
  },
  {
   "cell_type": "code",
   "execution_count": 3,
   "id": "6a233471",
   "metadata": {},
   "outputs": [],
   "source": [
    "strText = \"Hello World\""
   ]
  },
  {
   "cell_type": "code",
   "execution_count": 11,
   "id": "c547e83d",
   "metadata": {},
   "outputs": [
    {
     "name": "stdout",
     "output_type": "stream",
     "text": [
      "Hello World\n"
     ]
    }
   ],
   "source": [
    "print(strText    )"
   ]
  },
  {
   "cell_type": "code",
   "execution_count": 12,
   "id": "6386e9f5",
   "metadata": {},
   "outputs": [
    {
     "data": {
      "text/plain": [
       "'Hello World'"
      ]
     },
     "execution_count": 12,
     "metadata": {},
     "output_type": "execute_result"
    }
   ],
   "source": [
    "strText"
   ]
  },
  {
   "cell_type": "code",
   "execution_count": 16,
   "id": "5f3424be",
   "metadata": {},
   "outputs": [
    {
     "name": "stdout",
     "output_type": "stream",
     "text": [
      "Hell\n"
     ]
    }
   ],
   "source": [
    "print(strText[0:4])"
   ]
  },
  {
   "cell_type": "code",
   "execution_count": 17,
   "id": "79772708",
   "metadata": {},
   "outputs": [
    {
     "name": "stdout",
     "output_type": "stream",
     "text": [
      "l\n"
     ]
    }
   ],
   "source": [
    "print(strText[3])"
   ]
  },
  {
   "cell_type": "code",
   "execution_count": 29,
   "id": "e995213f",
   "metadata": {},
   "outputs": [],
   "source": [
    "wowza =(\"a;kasjdflksadjf \\\n",
    "okokokokok \\\n",
    "        ...that iss it folks\")"
   ]
  },
  {
   "cell_type": "code",
   "execution_count": 28,
   "id": "cb9dd58e",
   "metadata": {},
   "outputs": [
    {
     "name": "stdout",
     "output_type": "stream",
     "text": [
      "e\n"
     ]
    }
   ],
   "source": [
    "print(strText[1])"
   ]
  },
  {
   "cell_type": "code",
   "execution_count": 23,
   "id": "19ede6e8",
   "metadata": {},
   "outputs": [
    {
     "name": "stdout",
     "output_type": "stream",
     "text": [
      " \n"
     ]
    }
   ],
   "source": [
    "print(strText[5])"
   ]
  },
  {
   "cell_type": "code",
   "execution_count": 24,
   "id": "b8b57fe1",
   "metadata": {},
   "outputs": [
    {
     "name": "stdout",
     "output_type": "stream",
     "text": [
      "d\n"
     ]
    }
   ],
   "source": [
    "print(strText[-1])"
   ]
  },
  {
   "cell_type": "code",
   "execution_count": 30,
   "id": "cafdc5ea",
   "metadata": {},
   "outputs": [
    {
     "name": "stdout",
     "output_type": "stream",
     "text": [
      "a;kasjdflksadjf okokokokok         ...that iss it folks\n"
     ]
    }
   ],
   "source": [
    "print(wowza)"
   ]
  },
  {
   "cell_type": "code",
   "execution_count": 41,
   "id": "a8064039",
   "metadata": {},
   "outputs": [
    {
     "data": {
      "text/plain": [
       "''"
      ]
     },
     "execution_count": 41,
     "metadata": {},
     "output_type": "execute_result"
    }
   ],
   "source": [
    "strText[-1:8]\n"
   ]
  },
  {
   "cell_type": "code",
   "execution_count": 33,
   "id": "25bb8097",
   "metadata": {},
   "outputs": [
    {
     "data": {
      "text/plain": [
       "'Hello World'"
      ]
     },
     "execution_count": 33,
     "metadata": {},
     "output_type": "execute_result"
    }
   ],
   "source": [
    "strText"
   ]
  },
  {
   "cell_type": "code",
   "execution_count": 35,
   "id": "8869f03b",
   "metadata": {},
   "outputs": [
    {
     "name": "stdout",
     "output_type": "stream",
     "text": [
      "d\n"
     ]
    }
   ],
   "source": [
    "print(strText[-1])\n"
   ]
  },
  {
   "cell_type": "code",
   "execution_count": 37,
   "id": "5de4f0e5",
   "metadata": {},
   "outputs": [
    {
     "name": "stdout",
     "output_type": "stream",
     "text": [
      "llo Worl\n"
     ]
    }
   ],
   "source": [
    "print(strText[-9:-1])"
   ]
  },
  {
   "cell_type": "code",
   "execution_count": 45,
   "id": "a4eaa03d",
   "metadata": {},
   "outputs": [
    {
     "name": "stdout",
     "output_type": "stream",
     "text": [
      "H\n"
     ]
    }
   ],
   "source": [
    "print(strText[0])"
   ]
  },
  {
   "cell_type": "code",
   "execution_count": 46,
   "id": "622657cc",
   "metadata": {},
   "outputs": [],
   "source": [
    "a = strText[0]"
   ]
  },
  {
   "cell_type": "code",
   "execution_count": 48,
   "id": "3882b35b",
   "metadata": {},
   "outputs": [
    {
     "data": {
      "text/plain": [
       "72"
      ]
     },
     "execution_count": 48,
     "metadata": {},
     "output_type": "execute_result"
    }
   ],
   "source": [
    "ord(a)\n"
   ]
  },
  {
   "cell_type": "code",
   "execution_count": 49,
   "id": "9749c7c2",
   "metadata": {},
   "outputs": [
    {
     "data": {
      "text/plain": [
       "74"
      ]
     },
     "execution_count": 49,
     "metadata": {},
     "output_type": "execute_result"
    }
   ],
   "source": [
    "ord(a)+2\n"
   ]
  },
  {
   "cell_type": "code",
   "execution_count": null,
   "id": "5ff1b221",
   "metadata": {},
   "outputs": [],
   "source": [
    "ord(H)"
   ]
  }
 ],
 "metadata": {
  "kernelspec": {
   "display_name": "Python 3 (ipykernel)",
   "language": "python",
   "name": "python3"
  },
  "language_info": {
   "codemirror_mode": {
    "name": "ipython",
    "version": 3
   },
   "file_extension": ".py",
   "mimetype": "text/x-python",
   "name": "python",
   "nbconvert_exporter": "python",
   "pygments_lexer": "ipython3",
   "version": "3.11.4"
  }
 },
 "nbformat": 4,
 "nbformat_minor": 5
}
