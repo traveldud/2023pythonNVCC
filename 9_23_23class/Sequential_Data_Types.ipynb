{
 "cells": [
  {
   "cell_type": "markdown",
   "id": "116b15dd",
   "metadata": {},
   "source": [
    "### Sequential Data Types\n",
    "Python provide the following type of Sequential Data Types: \n",
    "* strings\n",
    "* lists\n",
    "* tuples\n",
    "* range objects\n",
    "\n"
   ]
  },
  {
   "cell_type": "code",
   "execution_count": 6,
   "id": "dbb5d51e",
   "metadata": {},
   "outputs": [
    {
     "name": "stdout",
     "output_type": "stream",
     "text": [
      "L S !\n"
     ]
    }
   ],
   "source": [
    "text = \"Lists and Strings and can be accessed via indices!\"\n",
    "print(text[0], text[10], text[-1])\n"
   ]
  },
  {
   "cell_type": "markdown",
   "id": "88969fdb",
   "metadata": {},
   "source": [
    "### Lists\n",
    "Lists are identified by [].  Any value inside a square bracket is called a list"
   ]
  },
  {
   "cell_type": "code",
   "execution_count": 5,
   "id": "58d32f5e",
   "metadata": {},
   "outputs": [],
   "source": [
    "cities = [\"Vienna\", \"london\", \"paris\", \"Berlin\", \"Zurich\", \"Hamburg\"]\n",
    "# Accessing elemets in a list"
   ]
  },
  {
   "cell_type": "code",
   "execution_count": 12,
   "id": "0d01558b",
   "metadata": {},
   "outputs": [
    {
     "data": {
      "text/plain": [
       "'Zurich'"
      ]
     },
     "execution_count": 12,
     "metadata": {},
     "output_type": "execute_result"
    }
   ],
   "source": [
    "cities[-2].title()"
   ]
  },
  {
   "cell_type": "code",
   "execution_count": 11,
   "id": "2f78d3e0",
   "metadata": {},
   "outputs": [
    {
     "data": {
      "text/plain": [
       "'Hamburg'"
      ]
     },
     "execution_count": 11,
     "metadata": {},
     "output_type": "execute_result"
    }
   ],
   "source": [
    "cities[-1]"
   ]
  },
  {
   "cell_type": "code",
   "execution_count": 8,
   "id": "b05e4e2e",
   "metadata": {},
   "outputs": [],
   "source": [
    "fruits = ['apples','oranges','blueberries','pineapple','watermelon']"
   ]
  },
  {
   "cell_type": "code",
   "execution_count": 10,
   "id": "dd0fb576",
   "metadata": {},
   "outputs": [
    {
     "data": {
      "text/plain": [
       "5"
      ]
     },
     "execution_count": 10,
     "metadata": {},
     "output_type": "execute_result"
    }
   ],
   "source": [
    "len(fruits)"
   ]
  },
  {
   "cell_type": "code",
   "execution_count": 20,
   "id": "ed478e9a",
   "metadata": {},
   "outputs": [
    {
     "data": {
      "text/plain": [
       "'apples'"
      ]
     },
     "execution_count": 20,
     "metadata": {},
     "output_type": "execute_result"
    }
   ],
   "source": [
    "fruits[0]"
   ]
  },
  {
   "cell_type": "code",
   "execution_count": 13,
   "id": "f7ce187d",
   "metadata": {},
   "outputs": [
    {
     "data": {
      "text/plain": [
       "'a'"
      ]
     },
     "execution_count": 13,
     "metadata": {},
     "output_type": "execute_result"
    }
   ],
   "source": [
    "fruits[0][0]"
   ]
  },
  {
   "cell_type": "code",
   "execution_count": 21,
   "id": "4d18c940",
   "metadata": {},
   "outputs": [
    {
     "data": {
      "text/plain": [
       "'s'"
      ]
     },
     "execution_count": 21,
     "metadata": {},
     "output_type": "execute_result"
    }
   ],
   "source": [
    "fruits[0][-1]"
   ]
  },
  {
   "cell_type": "code",
   "execution_count": 19,
   "id": "c3ad916d",
   "metadata": {},
   "outputs": [
    {
     "data": {
      "text/plain": [
       "'watermelon'"
      ]
     },
     "execution_count": 19,
     "metadata": {},
     "output_type": "execute_result"
    }
   ],
   "source": [
    "fruits[-1]"
   ]
  },
  {
   "cell_type": "code",
   "execution_count": 18,
   "id": "ee31e913",
   "metadata": {},
   "outputs": [
    {
     "data": {
      "text/plain": [
       "'w'"
      ]
     },
     "execution_count": 18,
     "metadata": {},
     "output_type": "execute_result"
    }
   ],
   "source": [
    "fruits[-1][0]"
   ]
  },
  {
   "cell_type": "code",
   "execution_count": 26,
   "id": "998eefe3",
   "metadata": {},
   "outputs": [],
   "source": [
    "fib = [1, 1, 2, 3, 5, 8, 13, 21, 34, 55]#zero not included in computers??"
   ]
  },
  {
   "cell_type": "code",
   "execution_count": 27,
   "id": "a7e0875d",
   "metadata": {},
   "outputs": [
    {
     "data": {
      "text/plain": [
       "10"
      ]
     },
     "execution_count": 27,
     "metadata": {},
     "output_type": "execute_result"
    }
   ],
   "source": [
    "len(fib)"
   ]
  },
  {
   "cell_type": "markdown",
   "id": "1f1e5395",
   "metadata": {},
   "source": [
    "### Python Lists\n",
    "List is a collection of identical objects.  Python lists is an ordered group of elements or items.\n",
    "It's imiportant to note that these list of elements don't have to be of the same type.  It can be arbitrary mixture of elements\n",
    "#### The main properties of Python lists are:\n",
    "* They are ordered\n",
    "* They contain arbitrary objects\n",
    "* Elements of a list can be accessesd by an index\n",
    "* They are nestable, i.e., can contain other lists as sublists\n",
    "* They are mutable, i.e., The elements of a list can be changed\n"
   ]
  },
  {
   "cell_type": "code",
   "execution_count": 30,
   "id": "07642c87",
   "metadata": {},
   "outputs": [
    {
     "name": "stdout",
     "output_type": "stream",
     "text": [
      "python and care quiete different!\n"
     ]
    }
   ],
   "source": [
    "programmingLanguages = [\"python\", \"c\", \"c++\", \"java\", \"perl\"]\n",
    "print(programmingLanguages[0] + \" and \" + programmingLanguages[1] + \"are quiet different!\")"
   ]
  },
  {
   "cell_type": "markdown",
   "id": "ccbfc2d7",
   "metadata": {},
   "source": [
    "#### Sublists\n",
    "Lists can have sublists as elements.   These sublists may contain sublists as well.\n",
    "* below is an example is a \"hybrid list\""
   ]
  },
  {
   "cell_type": "code",
   "execution_count": 35,
   "id": "1a4e03ea",
   "metadata": {},
   "outputs": [],
   "source": [
    "person =[[\"marc\",\"mayer\"],#person list first entry\n",
    "        [\"17 oxford street\", 12345, \"london\"],#second list entry which is a list\n",
    "         '07876-7876']#third is just a value and the third value"
   ]
  },
  {
   "cell_type": "code",
   "execution_count": 37,
   "id": "771c2b7f",
   "metadata": {},
   "outputs": [
    {
     "data": {
      "text/plain": [
       "['17 oxford street', 12345, 'london']"
      ]
     },
     "execution_count": 37,
     "metadata": {},
     "output_type": "execute_result"
    }
   ],
   "source": [
    "person[1]"
   ]
  },
  {
   "cell_type": "code",
   "execution_count": 38,
   "id": "2ef24d5f",
   "metadata": {},
   "outputs": [
    {
     "data": {
      "text/plain": [
       "['marc', 'mayer']"
      ]
     },
     "execution_count": 38,
     "metadata": {},
     "output_type": "execute_result"
    }
   ],
   "source": [
    "person[0]"
   ]
  },
  {
   "cell_type": "code",
   "execution_count": 39,
   "id": "69f98a3f",
   "metadata": {},
   "outputs": [
    {
     "data": {
      "text/plain": [
       "'07876-7876'"
      ]
     },
     "execution_count": 39,
     "metadata": {},
     "output_type": "execute_result"
    }
   ],
   "source": [
    "person[2]"
   ]
  },
  {
   "cell_type": "code",
   "execution_count": 48,
   "id": "7bf9c9d1",
   "metadata": {},
   "outputs": [
    {
     "data": {
      "text/plain": [
       "'mayer'"
      ]
     },
     "execution_count": 48,
     "metadata": {},
     "output_type": "execute_result"
    }
   ],
   "source": [
    "person[0][1]"
   ]
  },
  {
   "cell_type": "code",
   "execution_count": 49,
   "id": "91a38386",
   "metadata": {},
   "outputs": [
    {
     "data": {
      "text/plain": [
       "'a'"
      ]
     },
     "execution_count": 49,
     "metadata": {},
     "output_type": "execute_result"
    }
   ],
   "source": [
    "person[0][1][1]"
   ]
  },
  {
   "cell_type": "code",
   "execution_count": 50,
   "id": "79feaa1b",
   "metadata": {},
   "outputs": [
    {
     "data": {
      "text/plain": [
       "(['marc', 'mayer'], [1])"
      ]
     },
     "execution_count": 50,
     "metadata": {},
     "output_type": "execute_result"
    }
   ],
   "source": [
    "person[0],[1]# this is junk...coincidentally has a value"
   ]
  },
  {
   "cell_type": "code",
   "execution_count": 51,
   "id": "a8cbbdf8",
   "metadata": {},
   "outputs": [
    {
     "data": {
      "text/plain": [
       "3"
      ]
     },
     "execution_count": 51,
     "metadata": {},
     "output_type": "execute_result"
    }
   ],
   "source": [
    "len(person) "
   ]
  },
  {
   "cell_type": "code",
   "execution_count": 52,
   "id": "709299b5",
   "metadata": {},
   "outputs": [
    {
     "data": {
      "text/plain": [
       "2"
      ]
     },
     "execution_count": 52,
     "metadata": {},
     "output_type": "execute_result"
    }
   ],
   "source": [
    "len(person[0])"
   ]
  },
  {
   "cell_type": "markdown",
   "id": "386636a2",
   "metadata": {},
   "source": [
    "### complex list"
   ]
  },
  {
   "cell_type": "code",
   "execution_count": 53,
   "id": "3d3127ed",
   "metadata": {},
   "outputs": [],
   "source": [
    "complex_list = [[\"a\",[\"b\",[\"c\",\"x\"]]],42]\n"
   ]
  },
  {
   "cell_type": "code",
   "execution_count": 60,
   "id": "1a20cb0e",
   "metadata": {},
   "outputs": [],
   "source": [
    "#print b,c and x"
   ]
  },
  {
   "cell_type": "code",
   "execution_count": 63,
   "id": "698e5502",
   "metadata": {},
   "outputs": [
    {
     "data": {
      "text/plain": [
       "['b', ['c', 'x']]"
      ]
     },
     "execution_count": 63,
     "metadata": {},
     "output_type": "execute_result"
    }
   ],
   "source": [
    "complex_list[0][1]"
   ]
  },
  {
   "cell_type": "code",
   "execution_count": 67,
   "id": "941fb8d1",
   "metadata": {},
   "outputs": [
    {
     "data": {
      "text/plain": [
       "['a', ['b', ['c', 'x']]]"
      ]
     },
     "execution_count": 67,
     "metadata": {},
     "output_type": "execute_result"
    }
   ],
   "source": [
    "complex_list[0]"
   ]
  },
  {
   "cell_type": "code",
   "execution_count": 61,
   "id": "c273f04b",
   "metadata": {},
   "outputs": [],
   "source": [
    "#print c"
   ]
  },
  {
   "cell_type": "code",
   "execution_count": 66,
   "id": "124554d8",
   "metadata": {},
   "outputs": [
    {
     "data": {
      "text/plain": [
       "'c'"
      ]
     },
     "execution_count": 66,
     "metadata": {},
     "output_type": "execute_result"
    }
   ],
   "source": [
    "complex_list[0][1][1][0]"
   ]
  },
  {
   "cell_type": "code",
   "execution_count": null,
   "id": "4b4937f8",
   "metadata": {},
   "outputs": [],
   "source": []
  }
 ],
 "metadata": {
  "kernelspec": {
   "display_name": "Python 3 (ipykernel)",
   "language": "python",
   "name": "python3"
  },
  "language_info": {
   "codemirror_mode": {
    "name": "ipython",
    "version": 3
   },
   "file_extension": ".py",
   "mimetype": "text/x-python",
   "name": "python",
   "nbconvert_exporter": "python",
   "pygments_lexer": "ipython3",
   "version": "3.11.4"
  }
 },
 "nbformat": 4,
 "nbformat_minor": 5
}
