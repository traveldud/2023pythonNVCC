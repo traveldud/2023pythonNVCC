{
 "cells": [
  {
   "cell_type": "code",
   "execution_count": 1,
   "id": "65931e94",
   "metadata": {},
   "outputs": [],
   "source": [
    "apple = \"these \\\n",
    "taste \\\n",
    "great\""
   ]
  },
  {
   "cell_type": "code",
   "execution_count": 2,
   "id": "3f0d5a7b",
   "metadata": {},
   "outputs": [
    {
     "name": "stdout",
     "output_type": "stream",
     "text": [
      "these taste great\n"
     ]
    }
   ],
   "source": [
    "print(apple)"
   ]
  },
  {
   "cell_type": "code",
   "execution_count": 3,
   "id": "6dd29aee",
   "metadata": {},
   "outputs": [],
   "source": [
    "strText = \"hello world\""
   ]
  },
  {
   "cell_type": "markdown",
   "id": "513be513",
   "metadata": {},
   "source": [
    "## Immutable Strings\n",
    "Strings in any modern programming language are immutable, once created they cannot be changed."
   ]
  },
  {
   "cell_type": "code",
   "execution_count": 6,
   "id": "9c3b239c",
   "metadata": {},
   "outputs": [
    {
     "ename": "TypeError",
     "evalue": "'str' object does not support item assignment",
     "output_type": "error",
     "traceback": [
      "\u001b[1;31m---------------------------------------------------------------------------\u001b[0m",
      "\u001b[1;31mTypeError\u001b[0m                                 Traceback (most recent call last)",
      "Cell \u001b[1;32mIn[6], line 2\u001b[0m\n\u001b[0;32m      1\u001b[0m strNewText \u001b[38;5;241m=\u001b[39m \u001b[38;5;124m\"\u001b[39m\u001b[38;5;124mSome things are Immutable\u001b[39m\u001b[38;5;124m\"\u001b[39m\n\u001b[1;32m----> 2\u001b[0m strNewText[\u001b[38;5;241m-\u001b[39m\u001b[38;5;241m1\u001b[39m] \u001b[38;5;241m=\u001b[39m \u001b[38;5;124m\"\u001b[39m\u001b[38;5;124m$!\u001b[39m\u001b[38;5;124m\"\u001b[39m\n",
      "\u001b[1;31mTypeError\u001b[0m: 'str' object does not support item assignment"
     ]
    }
   ],
   "source": [
    "strNewText = \"Some things are Immutable\"\n",
    "strNewText[-1] = \"$!\""
   ]
  },
  {
   "cell_type": "code",
   "execution_count": 7,
   "id": "7cdbbaf0",
   "metadata": {},
   "outputs": [
    {
     "data": {
      "text/plain": [
       "25"
      ]
     },
     "execution_count": 7,
     "metadata": {},
     "output_type": "execute_result"
    }
   ],
   "source": [
    "len(strNewText)"
   ]
  },
  {
   "cell_type": "code",
   "execution_count": 11,
   "id": "3a585711",
   "metadata": {},
   "outputs": [
    {
     "data": {
      "text/plain": [
       "'Immutabl'"
      ]
     },
     "execution_count": 11,
     "metadata": {},
     "output_type": "execute_result"
    }
   ],
   "source": [
    "strNewText[-9:-1]"
   ]
  },
  {
   "cell_type": "markdown",
   "id": "b41c1d96",
   "metadata": {},
   "source": [
    "#### The var \"txt\" is a ref to a string object.  We def a new string obj in the 2nd assignment"
   ]
  },
  {
   "cell_type": "code",
   "execution_count": 12,
   "id": "20ce142a",
   "metadata": {},
   "outputs": [],
   "source": [
    "txt = 'He lives in Berlin'\n",
    "txt = 'He lives in Hamburg'"
   ]
  },
  {
   "cell_type": "markdown",
   "id": "e27143bf",
   "metadata": {},
   "source": [
    "### A String Pecularity\n",
    "Strings show a special effect, which we illustrate in the following example.\n",
    "We will use the the \"is\" operator.  if both a and b are strings, \"a is b\" checks if they have the same identity\n",
    "i.e., share the same memory location. if \"a is b\" is True, then it trivially follows that \"a==b\" has to be True as well.  \n",
    "Yet, \"a==b\" True doesn't imply that \"a is b\" is True as well."
   ]
  },
  {
   "cell_type": "markdown",
   "id": "b5ff14d1",
   "metadata": {},
   "source": [
    "# This a big text\n",
    "## This is the second big text\n",
    "### and so on\n"
   ]
  },
  {
   "cell_type": "code",
   "execution_count": 23,
   "id": "c4a24198",
   "metadata": {},
   "outputs": [
    {
     "data": {
      "text/plain": [
       "True"
      ]
     },
     "execution_count": 23,
     "metadata": {},
     "output_type": "execute_result"
    }
   ],
   "source": [
    "a = \"Linux\"\n",
    "b = \"Linux\"\n",
    "a is b"
   ]
  },
  {
   "cell_type": "code",
   "execution_count": 24,
   "id": "c22683f6",
   "metadata": {},
   "outputs": [
    {
     "data": {
      "text/plain": [
       "True"
      ]
     },
     "execution_count": 24,
     "metadata": {},
     "output_type": "execute_result"
    }
   ],
   "source": [
    "a==b\n"
   ]
  },
  {
   "cell_type": "code",
   "execution_count": 25,
   "id": "31a4c7d5",
   "metadata": {},
   "outputs": [],
   "source": [
    "c = \"Lorem Ipsum Lorem Ipsum Lorem Ipsum\"\n",
    "d = \"Lorem Ipsum Lorem Ipsum Lorem Ipsum\""
   ]
  },
  {
   "cell_type": "code",
   "execution_count": 26,
   "id": "a3a18c3a",
   "metadata": {},
   "outputs": [
    {
     "data": {
      "text/plain": [
       "False"
      ]
     },
     "execution_count": 26,
     "metadata": {},
     "output_type": "execute_result"
    }
   ],
   "source": [
    "c is d"
   ]
  },
  {
   "cell_type": "code",
   "execution_count": 27,
   "id": "2ad33171",
   "metadata": {},
   "outputs": [
    {
     "data": {
      "text/plain": [
       "(1984733838096, 1984733838384)"
      ]
     },
     "execution_count": 27,
     "metadata": {},
     "output_type": "execute_result"
    }
   ],
   "source": [
    "id(c), id(d)"
   ]
  },
  {
   "cell_type": "code",
   "execution_count": 28,
   "id": "665e8758",
   "metadata": {},
   "outputs": [
    {
     "data": {
      "text/plain": [
       "(1984656790896, 1984656790896)"
      ]
     },
     "execution_count": 28,
     "metadata": {},
     "output_type": "execute_result"
    }
   ],
   "source": [
    "id(a), id(b)"
   ]
  },
  {
   "cell_type": "code",
   "execution_count": 29,
   "id": "97b90613",
   "metadata": {},
   "outputs": [
    {
     "data": {
      "text/plain": [
       "True"
      ]
     },
     "execution_count": 29,
     "metadata": {},
     "output_type": "execute_result"
    }
   ],
   "source": [
    "c==d"
   ]
  },
  {
   "cell_type": "code",
   "execution_count": 36,
   "id": "22db5693",
   "metadata": {},
   "outputs": [
    {
     "data": {
      "text/plain": [
       "b'hello'"
      ]
     },
     "execution_count": 36,
     "metadata": {},
     "output_type": "execute_result"
    }
   ],
   "source": [
    "x = \"hello\" #string that could be anything from an outside source\n",
    "t=str(x) #a string data type encode function to convert to your developer environment\n",
    "#type(x)\n",
    "#type(t)\n",
    "u = t.encode(\"UTF-8\") #how to encode into UTF-8 -- \n",
    "u"
   ]
  },
  {
   "cell_type": "markdown",
   "id": "2e99ab03",
   "metadata": {},
   "source": [
    "### 'b' implies it's a binary output"
   ]
  },
  {
   "cell_type": "code",
   "execution_count": null,
   "id": "f227e2ee",
   "metadata": {},
   "outputs": [],
   "source": []
  }
 ],
 "metadata": {
  "kernelspec": {
   "display_name": "Python 3 (ipykernel)",
   "language": "python",
   "name": "python3"
  },
  "language_info": {
   "codemirror_mode": {
    "name": "ipython",
    "version": 3
   },
   "file_extension": ".py",
   "mimetype": "text/x-python",
   "name": "python",
   "nbconvert_exporter": "python",
   "pygments_lexer": "ipython3",
   "version": "3.11.4"
  }
 },
 "nbformat": 4,
 "nbformat_minor": 5
}
