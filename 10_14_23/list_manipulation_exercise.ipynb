{
 "cells": [
  {
   "cell_type": "markdown",
   "id": "0d4c13a1",
   "metadata": {},
   "source": [
    "### Basic Append\n",
    "* Create an empty list called 'fruits'\n",
    "* append the following items to the list, one by one:  \"apple\", \"banana\", \"cherry\"\n",
    "* print the list"
   ]
  },
  {
   "cell_type": "code",
   "execution_count": 4,
   "id": "4758f734",
   "metadata": {},
   "outputs": [
    {
     "name": "stdout",
     "output_type": "stream",
     "text": [
      "['apple', 'banana', 'cherry']\n"
     ]
    }
   ],
   "source": [
    "fruits = []\n",
    "fruits.append(\"apple\")\n",
    "fruits.append(\"banana\")\n",
    "fruits.append(\"cherry\")\n",
    "fruits\n",
    "print(fruits)"
   ]
  },
  {
   "cell_type": "markdown",
   "id": "2e948947",
   "metadata": {},
   "source": [
    "### Dynamic User Input:\n",
    "* Create an empty list called \"user_data\"\n",
    "* Prompt the user to input 5 values, one at a time, append each of them to the \"user_data\" list\n",
    "* print the final list"
   ]
  },
  {
   "cell_type": "code",
   "execution_count": 6,
   "id": "8027da4e",
   "metadata": {},
   "outputs": [
    {
     "name": "stdout",
     "output_type": "stream",
     "text": [
      "please input a value you would like added to the list1\n",
      "['1']\n",
      "please input a value you would like added to the list2\n",
      "['1', '2']\n",
      "please input a value you would like added to the list3\n",
      "['1', '2', '3']\n",
      "please input a value you would like added to the list4\n",
      "['1', '2', '3', '4']\n",
      "please input a value you would like added to the list5\n",
      "['1', '2', '3', '4', '5']\n",
      "left loop\n"
     ]
    }
   ],
   "source": [
    "### my solution before instructor started, his below\n",
    "user_data = []\n",
    "counter = 1\n",
    "while counter <= 5:\n",
    "    counter += 1\n",
    "    value = input(\"please input a value you would like added to the list: \")\n",
    "    user_data.append(value)\n",
    "    print(user_data)\n",
    "\n",
    "print(\"left loop\")\n"
   ]
  },
  {
   "cell_type": "code",
   "execution_count": 12,
   "id": "1a25f8c2",
   "metadata": {},
   "outputs": [
    {
     "name": "stdout",
     "output_type": "stream",
     "text": [
      "Enter a value: 1\n",
      "['1']\n",
      "Enter a value: asdfads\n",
      "['1', 'asdfads']\n",
      "Enter a value: 4500\n",
      "['1', 'asdfads', '4500']\n",
      "Enter a value: 4,500\n",
      "['1', 'asdfads', '4500', '4,500']\n",
      "Enter a value: that's all folks\n",
      "['1', 'asdfads', '4500', '4,500', \"that's all folks\"]\n",
      "['1', 'asdfads', '4500', '4,500', \"that's all folks\"]\n"
     ]
    }
   ],
   "source": [
    "user_data = []\n",
    "#_ \"single underscore is a  private variable (vs. public variable).  This holds the value from a previous variable\"\n",
    "#or if you want the last value in memory\n",
    "\n",
    "\"\"\"for _ in range(5):\n",
    "    print(_)\n",
    "\n",
    "print()\n",
    "\n",
    "for apple in range(5):\n",
    "    print(apple)\"\"\"\n",
    "\n",
    "for _ in range(5):\n",
    "    value = input(\"Enter a value: \")  #input function only takes strings!!!!!!\n",
    "    user_data.append(value)\n",
    "    print(user_data)\n",
    "\n",
    "print(user_data)"
   ]
  },
  {
   "cell_type": "code",
   "execution_count": 13,
   "id": "0439ba8b",
   "metadata": {},
   "outputs": [
    {
     "name": "stdout",
     "output_type": "stream",
     "text": [
      "4\n"
     ]
    }
   ],
   "source": [
    "print(_)"
   ]
  },
  {
   "cell_type": "markdown",
   "id": "494145ce",
   "metadata": {},
   "source": [
    "### pop by Index:\n",
    "*  Given a list \"colors = [\"red\", \"blue\",\"green\",\"yellow\",\"purple\"], prompt the user for an index number\n",
    "* Use pop() to remove and print the item at the given Index \n",
    "* print the updated \"colors\" list\n"
   ]
  },
  {
   "cell_type": "code",
   "execution_count": 16,
   "id": "42239569",
   "metadata": {},
   "outputs": [
    {
     "name": "stdout",
     "output_type": "stream",
     "text": [
      "enter an index to remove: 3\n",
      "Removed color: yellow\n",
      "['red', 'blue', 'green', 'purple']\n"
     ]
    }
   ],
   "source": [
    "colors = [\"red\", \"blue\",\"green\",\"yellow\",\"purple\"]\n",
    "index = int(input(\"enter an index to remove: \"))  #convert the default values of string to integer\n",
    "if 0 <= index < len(colors):\n",
    "    removed_color = colors.pop(index)\n",
    "    print(\"Removed color:\", removed_color)\n",
    "    print(colors)\n",
    "else:\n",
    "    print(\"Invalid index\")"
   ]
  },
  {
   "cell_type": "code",
   "execution_count": 20,
   "id": "69656f52",
   "metadata": {},
   "outputs": [
    {
     "ename": "TypeError",
     "evalue": "list indices must be integers or slices, not str",
     "output_type": "error",
     "traceback": [
      "\u001b[1;31m---------------------------------------------------------------------------\u001b[0m",
      "\u001b[1;31mTypeError\u001b[0m                                 Traceback (most recent call last)",
      "Cell \u001b[1;32mIn[20], line 3\u001b[0m\n\u001b[0;32m      1\u001b[0m colors \u001b[38;5;241m=\u001b[39m [\u001b[38;5;124m\"\u001b[39m\u001b[38;5;124mred\u001b[39m\u001b[38;5;124m\"\u001b[39m, \u001b[38;5;124m\"\u001b[39m\u001b[38;5;124mblue\u001b[39m\u001b[38;5;124m\"\u001b[39m,\u001b[38;5;124m\"\u001b[39m\u001b[38;5;124mgreen\u001b[39m\u001b[38;5;124m\"\u001b[39m,\u001b[38;5;124m\"\u001b[39m\u001b[38;5;124myellow\u001b[39m\u001b[38;5;124m\"\u001b[39m,\u001b[38;5;124m\"\u001b[39m\u001b[38;5;124mpurple\u001b[39m\u001b[38;5;124m\"\u001b[39m]\n\u001b[0;32m      2\u001b[0m \u001b[38;5;66;03m#how do we find the value we want to \"remvoe\" from the list\u001b[39;00m\n\u001b[1;32m----> 3\u001b[0m colors[\u001b[38;5;124m'\u001b[39m\u001b[38;5;124mred\u001b[39m\u001b[38;5;124m'\u001b[39m]\n",
      "\u001b[1;31mTypeError\u001b[0m: list indices must be integers or slices, not str"
     ]
    }
   ],
   "source": [
    "colors = [\"red\", \"blue\",\"green\",\"yellow\",\"purple\"]\n",
    "#how do we find the value we want to \"remvoe\" from the list\n",
    "colors['red']"
   ]
  },
  {
   "cell_type": "code",
   "execution_count": 21,
   "id": "8bbf29db",
   "metadata": {},
   "outputs": [
    {
     "data": {
      "text/plain": [
       "'red'"
      ]
     },
     "execution_count": 21,
     "metadata": {},
     "output_type": "execute_result"
    }
   ],
   "source": [
    "colors.pop(colors.index(\"red\"))"
   ]
  },
  {
   "cell_type": "code",
   "execution_count": 24,
   "id": "5af5b94a",
   "metadata": {},
   "outputs": [
    {
     "name": "stdout",
     "output_type": "stream",
     "text": [
      "['blue', 'green', 'yellow', 'purple', 'red', 'red', 'red', 'red']\n"
     ]
    }
   ],
   "source": [
    "colors.append(\"red\")\n",
    "colors.append(\"red\")\n",
    "colors.append(\"red\")\n",
    "print(colors)"
   ]
  },
  {
   "cell_type": "code",
   "execution_count": 25,
   "id": "4321c333",
   "metadata": {},
   "outputs": [
    {
     "ename": "NameError",
     "evalue": "name 'count' is not defined",
     "output_type": "error",
     "traceback": [
      "\u001b[1;31m---------------------------------------------------------------------------\u001b[0m",
      "\u001b[1;31mNameError\u001b[0m                                 Traceback (most recent call last)",
      "Cell \u001b[1;32mIn[25], line 1\u001b[0m\n\u001b[1;32m----> 1\u001b[0m count(colors[\u001b[38;5;124m\"\u001b[39m\u001b[38;5;124mred\u001b[39m\u001b[38;5;124m\"\u001b[39m])\n",
      "\u001b[1;31mNameError\u001b[0m: name 'count' is not defined"
     ]
    }
   ],
   "source": [
    "count(colors[\"red\"])\n"
   ]
  },
  {
   "cell_type": "markdown",
   "id": "825df0a6",
   "metadata": {},
   "source": [
    "### Use functions to remove an element by name"
   ]
  },
  {
   "cell_type": "code",
   "execution_count": 30,
   "id": "e5f61355",
   "metadata": {},
   "outputs": [],
   "source": [
    "def remove_by_name(lst, name):\n",
    "    if name in lst:\n",
    "        lst.pop(lst.index(name))\n",
    "    else:\n",
    "        print(f\"{name} not found in the list\")\n"
   ]
  },
  {
   "cell_type": "code",
   "execution_count": 31,
   "id": "64be7b51",
   "metadata": {},
   "outputs": [
    {
     "data": {
      "text/plain": [
       "['apple', 'cherry', 'date']"
      ]
     },
     "execution_count": 31,
     "metadata": {},
     "output_type": "execute_result"
    }
   ],
   "source": [
    "fruits = [\"apple\", \"banana\", \"cherry\", \"date\"]\n",
    "name_to_remove = \"banana\"\n",
    "remove_by_name(fruits, name_to_remove)\n",
    "fruits"
   ]
  },
  {
   "cell_type": "code",
   "execution_count": null,
   "id": "3a6c65e8",
   "metadata": {},
   "outputs": [
    {
     "name": "stdout",
     "output_type": "stream",
     "text": [
      "please enter the fruit you'd like to remove or 'q' to quit:  orange\n",
      "fruit list o/s while list ['apple', 'banana', 'cherry', 'date']\n",
      "your fruit is not in the list\n",
      "please enter the fruit that is in the list you'd like to remove or 'q' to quit:  banana\n",
      "your fruit is not in the list\n"
     ]
    }
   ],
   "source": [
    "#use the input function to remove the value of interest\n",
    "\n",
    "fruits = [\"apple\", \"banana\", \"cherry\", \"date\"]\n",
    "total_fruits = len(fruits)\n",
    "counter = 0\n",
    "\n",
    "name_to_remove = input(\"please enter the fruit you'd like to remove or 'q' to quit:  \")\n",
    "bad_fruit = name_to_remove\n",
    "\n",
    "print(\"fruit list o/s while list\", fruits)\n",
    "\n",
    "while counter < total_fruits:\n",
    "    if name_to_remove != 'q' and fruits[bad_fruit] == name_to_remove:\n",
    "        remove_by_name(fruits, name_to_remove)\n",
    "        counter +1\n",
    "        print(counter)\n",
    "        print(fruits)\n",
    "    elif name_to_remove == 'q':\n",
    "        print(fruits)\n",
    "        print(\"thank you for trying this programm\")\n",
    "        break\n",
    "    else:\n",
    "        print(f\"your fruit is not in the list\")\n",
    "        name_to_remove = input(\"please enter the fruit that is in the list you'd like to remove or 'q' to quit:  \")\n",
    "        \n",
    "\n",
    "\n",
    "\n",
    "        \n",
    "        \n",
    "\"\"\"    \n",
    "while name_to_remove != 'q':\n",
    "    print(\"inside while outside if\")\n",
    "    reject_fruit = name_to_remove\n",
    "    \n",
    "    if reject_fruit != fruits:\n",
    "        name_to_remove= input(\"please enter a fruit that is in the list, otherwise 'q' to quit (INSIDE 'IF' LOOP)\")\n",
    "        print(\"name_to_remove\", name_to_remove)\n",
    "        \n",
    "    else:\n",
    "        for reject_fruit in fruits:\n",
    "            remove_by_name(fruits, name_to_remove)\n",
    "            print(\"inside 'else loop'\", fruits)\n",
    "    \n",
    "#    print(fruits.find(reject_fruit))\n",
    "#    if name_to_remove == fruits.index(reject_fruit):\n",
    "        \n",
    "    \n",
    "   \n",
    "    fruits\n",
    "    \n",
    "break\"\"\"\n",
    "\n",
    "\n",
    "\n"
   ]
  },
  {
   "cell_type": "markdown",
   "id": "b296c433",
   "metadata": {},
   "source": [
    "### Reverse a list\n"
   ]
  },
  {
   "cell_type": "code",
   "execution_count": 58,
   "id": "189a13ed",
   "metadata": {},
   "outputs": [
    {
     "name": "stdout",
     "output_type": "stream",
     "text": [
      "[50, 40, 30, 20, 10]\n"
     ]
    }
   ],
   "source": [
    "original = [10,20,30,40,50]\n",
    "reversed_list = []\n",
    "while original:\n",
    "    reversed_list.append(original.pop())\n",
    "print(reversed_list)\n"
   ]
  },
  {
   "cell_type": "code",
   "execution_count": null,
   "id": "357e03f0",
   "metadata": {},
   "outputs": [],
   "source": []
  }
 ],
 "metadata": {
  "kernelspec": {
   "display_name": "Python 3 (ipykernel)",
   "language": "python",
   "name": "python3"
  },
  "language_info": {
   "codemirror_mode": {
    "name": "ipython",
    "version": 3
   },
   "file_extension": ".py",
   "mimetype": "text/x-python",
   "name": "python",
   "nbconvert_exporter": "python",
   "pygments_lexer": "ipython3",
   "version": "3.11.4"
  }
 },
 "nbformat": 4,
 "nbformat_minor": 5
}
