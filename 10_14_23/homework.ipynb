{
 "cells": [
  {
   "cell_type": "markdown",
   "id": "7a1a428d",
   "metadata": {},
   "source": [
    "### 1. Append and Pop Basics:\n",
    "* Start with an empty list named foods.\n",
    "* Append \"bread\", \"butter\", and \"jam\" to the list.\n",
    "* Pop the last item from the list and print it.\n",
    "* Print the final list."
   ]
  },
  {
   "cell_type": "code",
   "execution_count": 6,
   "id": "4bd7be55",
   "metadata": {},
   "outputs": [
    {
     "name": "stdout",
     "output_type": "stream",
     "text": [
      "before pop function and appending food list ['bread', 'butter', 'jam']\n",
      "after pop function and appending food list ['bread', 'butter']\n"
     ]
    }
   ],
   "source": [
    "foods = []\n",
    "foods.append(\"bread\")\n",
    "foods.append(\"butter\")\n",
    "foods.append(\"jam\")\n",
    "print(f\"before pop function and appending food list {foods}\")\n",
    "foods.pop()\n",
    "print(f\"after pop function and appending food list {foods}\")"
   ]
  },
  {
   "cell_type": "code",
   "execution_count": null,
   "id": "6438cd07",
   "metadata": {},
   "outputs": [],
   "source": []
  },
  {
   "cell_type": "markdown",
   "id": "23936d21",
   "metadata": {},
   "source": [
    "### 2.  Dynamically Grow a List:\n",
    "* Create an empty list called students.\n",
    "* Using a for-loop, ask the user to input 3 student names, appending each name to the list.\n",
    "* Print the final list of students."
   ]
  },
  {
   "cell_type": "code",
   "execution_count": 34,
   "id": "8fc8c1bc",
   "metadata": {},
   "outputs": [
    {
     "name": "stdout",
     "output_type": "stream",
     "text": [
      "please input a student's nameg\n",
      "please input a student's nameh\n",
      "please input a student's namej\n",
      "['g', 'h', 'j']\n"
     ]
    },
    {
     "data": {
      "text/plain": [
       "'    \\n######\\nfor _ in range(5):\\n    value = input(\"Enter a value: \")  #input function only takes strings!!!!!!\\n    user_data.append(value)\\n    print(user_data)\\n\\nprint(user_data)\\n#########\\n\\nstudents = []\\ncounter = 0\\nwhile counter < 3:\\n    name = input(\"please input student name\")\\n    students.append(name)\\n    counter += 1\\n    print(\"list studend list now contains:  \", students)\\n\\nprint(students)'"
      ]
     },
     "execution_count": 34,
     "metadata": {},
     "output_type": "execute_result"
    }
   ],
   "source": [
    "student_name = []\n",
    "students = []\n",
    "\n",
    "for _ in range(3):\n",
    "    students = input(\"please input a student's name\")\n",
    "    student_name.append(students)\n",
    "    \n",
    "print(student_name)\n",
    "    \n",
    "\n",
    "\"\"\"    \n",
    "######\n",
    "for _ in range(5):\n",
    "    value = input(\"Enter a value: \")  #input function only takes strings!!!!!!\n",
    "    user_data.append(value)\n",
    "    print(user_data)\n",
    "\n",
    "print(user_data)\n",
    "#########\n",
    "\n",
    "students = []\n",
    "counter = 0\n",
    "while counter < 3:\n",
    "    name = input(\"please input student name\")\n",
    "    students.append(name)\n",
    "    counter += 1\n",
    "    print(\"list studend list now contains:  \", students)\n",
    "\n",
    "print(students)\"\"\"\n",
    "\n"
   ]
  },
  {
   "cell_type": "code",
   "execution_count": 8,
   "id": "3aa12294",
   "metadata": {},
   "outputs": [
    {
     "ename": "IndentationError",
     "evalue": "expected an indented block after 'while' statement on line 7 (2961002520.py, line 8)",
     "output_type": "error",
     "traceback": [
      "\u001b[1;36m  Cell \u001b[1;32mIn[8], line 8\u001b[1;36m\u001b[0m\n\u001b[1;33m    name = input(\"please input student name\")\u001b[0m\n\u001b[1;37m    ^\u001b[0m\n\u001b[1;31mIndentationError\u001b[0m\u001b[1;31m:\u001b[0m expected an indented block after 'while' statement on line 7\n"
     ]
    }
   ],
   "source": [
    "#redo of 2 as it's not using a for loop\n",
    "students = []\n",
    "counter = 0\n",
    "\n",
    "for student in students:\n",
    "    \n",
    "    while counter < 3:\n",
    "    name = input(\"please input student name\")\n",
    "    students.append(name)\n",
    "    counter += 1\n",
    "    print(\"list studend list now contains:  \", students)\n",
    "\n",
    "print(students)    "
   ]
  },
  {
   "cell_type": "markdown",
   "id": "ffaadb0b",
   "metadata": {},
   "source": [
    "### 3. List Merging with extend:\n",
    "* Given two lists, listA = [1, 2, 3] and listB = [4, 5, 6].\n",
    "* Use the extend method to merge listB into listA.\n",
    "* Print the resulting listA.\n",
    "\n",
    "\n"
   ]
  },
  {
   "cell_type": "code",
   "execution_count": 12,
   "id": "c3574d5c",
   "metadata": {},
   "outputs": [
    {
     "name": "stdout",
     "output_type": "stream",
     "text": [
      "[1, 2, 3, 4, 5, 6]\n"
     ]
    },
    {
     "data": {
      "text/plain": [
       "[4, 5, 6]"
      ]
     },
     "execution_count": 12,
     "metadata": {},
     "output_type": "execute_result"
    }
   ],
   "source": [
    "listA = [1, 2, 3]\n",
    "listB = [4, 5, 6]\n",
    "listA.extend(listB)\n",
    "print(listA)\n",
    "listB"
   ]
  },
  {
   "cell_type": "markdown",
   "id": "490d4c92",
   "metadata": {},
   "source": [
    "### 4. Pop Elements Conditionally:\n",
    "* Given a list colors = [\"red\", \"green\", \"blue\", \"white\", \"black\"].\n",
    "* Write a loop that pops and prints colors from the list until you reach a color that contains the letter \"w\"."
   ]
  },
  {
   "cell_type": "code",
   "execution_count": 26,
   "id": "f3ce76fb",
   "metadata": {},
   "outputs": [
    {
     "name": "stdout",
     "output_type": "stream",
     "text": [
      "colors before if loop\n",
      "black\n",
      "colors before if loop\n"
     ]
    }
   ],
   "source": [
    "colors = [\"red\", \"green\", \"blue\", \"white\", \"black\"]\n",
    "qty = len(colors)\n",
    "\n",
    "while colors:\n",
    "    color = colors.pop()\n",
    "    print(\"colors before if loop\")\n",
    "    if color[0] == 'w':\n",
    "        break\n",
    "    else:\n",
    "        print(color)\n",
    "\n"
   ]
  },
  {
   "cell_type": "markdown",
   "id": "a7d5fbfc",
   "metadata": {},
   "source": [
    "### 5.  Complex List Operations:\n",
    "* Start with an empty list main_list.\n",
    "* Append three lists to main_list: [1, 2, 3], [4, 5, 6], and [7, 8, 9].\n",
    "* Use extend to flatten main_list so that it's a single list of numbers.\n",
    "* Pop the first and last numbers from the flattened list and print them."
   ]
  },
  {
   "cell_type": "code",
   "execution_count": 23,
   "id": "42040174",
   "metadata": {},
   "outputs": [
    {
     "data": {
      "text/plain": [
       "[2, 3, 4, 5, 6, 7, 8]"
      ]
     },
     "execution_count": 23,
     "metadata": {},
     "output_type": "execute_result"
    }
   ],
   "source": [
    "main_list = []\n",
    "lst_1 = [1,2,3]\n",
    "lst_2 = [4,5,6]\n",
    "lst_3= [7,8,9]\n",
    "main_list.extend(lst_1)\n",
    "main_list.extend(lst_2)\n",
    "main_list.extend(lst_3)\n",
    "main_list.pop(0)\n",
    "main_list.pop(-1)\n",
    "main_list"
   ]
  },
  {
   "cell_type": "markdown",
   "id": "87ccd55b",
   "metadata": {},
   "source": [
    "### 6. Alternate Appends and Pops:\n",
    "* Begin with two lists: source = [10, 20, 30, 40, 50] and destination = [].\n",
    "* Using a loop, alternate between appending the last item of source to destination and popping the first item of source until source is empty.\n",
    "* Print both lists at the end."
   ]
  },
  {
   "cell_type": "code",
   "execution_count": 24,
   "id": "9ea8518f",
   "metadata": {},
   "outputs": [
    {
     "name": "stdout",
     "output_type": "stream",
     "text": [
      "[50, 40, 30, 20, 10]\n"
     ]
    },
    {
     "data": {
      "text/plain": [
       "'while original:\\n    reversed_list.append(original.pop())\\nprint(reversed_list)'"
      ]
     },
     "execution_count": 24,
     "metadata": {},
     "output_type": "execute_result"
    }
   ],
   "source": [
    "source = [10, 20, 30, 40, 50]\n",
    "destination = []\n",
    "while source:\n",
    "    destination.append(source.pop())\n",
    "print(destination)\n",
    "\n",
    "\n",
    "\"\"\"while original:\n",
    "    reversed_list.append(original.pop())\n",
    "print(reversed_list)\"\"\""
   ]
  },
  {
   "cell_type": "code",
   "execution_count": null,
   "id": "f3b1611d",
   "metadata": {},
   "outputs": [],
   "source": []
  }
 ],
 "metadata": {
  "kernelspec": {
   "display_name": "Python 3 (ipykernel)",
   "language": "python",
   "name": "python3"
  },
  "language_info": {
   "codemirror_mode": {
    "name": "ipython",
    "version": 3
   },
   "file_extension": ".py",
   "mimetype": "text/x-python",
   "name": "python",
   "nbconvert_exporter": "python",
   "pygments_lexer": "ipython3",
   "version": "3.11.4"
  }
 },
 "nbformat": 4,
 "nbformat_minor": 5
}
