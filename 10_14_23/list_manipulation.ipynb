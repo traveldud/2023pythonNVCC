{
 "cells": [
  {
   "cell_type": "code",
   "execution_count": 24,
   "id": "d4d9d8cb",
   "metadata": {},
   "outputs": [
    {
     "data": {
      "text/plain": [
       "'free'"
      ]
     },
     "execution_count": 24,
     "metadata": {},
     "output_type": "execute_result"
    }
   ],
   "source": [
    "lst = [\"easy\", \"simple\", \"cheap\", \"free\"]\n",
    "lst[-1]"
   ]
  },
  {
   "cell_type": "code",
   "execution_count": 19,
   "id": "8ad3b9a4",
   "metadata": {},
   "outputs": [],
   "source": [
    "lst = [\"easy\", \"simple\"]\n",
    "lst = [-1]"
   ]
  },
  {
   "cell_type": "markdown",
   "id": "dcac8701",
   "metadata": {},
   "source": [
    "#### Pop and Append\n",
    "*lst.append(x)"
   ]
  },
  {
   "cell_type": "code",
   "execution_count": 46,
   "id": "979fb626",
   "metadata": {},
   "outputs": [],
   "source": [
    "lst = [3,5,7]\n",
    "new_lst = []\n",
    "#lst.append(42) #This returns \"None\".  You cannot use this to see the new list, but I will perform the uninterrupted \n",
    "                                        #atomic operation.  It is does not confirm and write list, which save loads of memory\n",
    "\n",
    "#print(lst.append(42))\n",
    "# lst #you have to explicity call the lst for the added value\n",
    "new_lst = lst.append(42)\n",
    "new_lst\n",
    "#print(new_lst)"
   ]
  },
  {
   "cell_type": "code",
   "execution_count": 54,
   "id": "9b51221c",
   "metadata": {},
   "outputs": [
    {
     "data": {
      "text/plain": [
       "[3, 5, 7, 42, 42, 42, 42, 42, 42, 42]"
      ]
     },
     "execution_count": 54,
     "metadata": {},
     "output_type": "execute_result"
    }
   ],
   "source": [
    "new_lst = lst\n",
    "#new_lst = lst.append(42)\n",
    "new_lst"
   ]
  },
  {
   "cell_type": "markdown",
   "id": "71a152ea",
   "metadata": {},
   "source": [
    "* lst.pop(i)\n",
    "* pop returns the (i)th element of a list.  The element will be removed from the list as well\n"
   ]
  },
  {
   "cell_type": "code",
   "execution_count": 26,
   "id": "39c05998",
   "metadata": {},
   "outputs": [
    {
     "data": {
      "text/plain": [
       "'Hamburg'"
      ]
     },
     "execution_count": 26,
     "metadata": {},
     "output_type": "execute_result"
    }
   ],
   "source": [
    "cities = [\"Hamburg\",\"Linz\",\"Salzburg\", \"Vienna\"]\n",
    "cities.pop(0) #\"atomic operation\" - an operation that affects the variable\n"
   ]
  },
  {
   "cell_type": "code",
   "execution_count": 27,
   "id": "defa7dc5",
   "metadata": {},
   "outputs": [
    {
     "data": {
      "text/plain": [
       "['Linz', 'Salzburg', 'Vienna']"
      ]
     },
     "execution_count": 27,
     "metadata": {},
     "output_type": "execute_result"
    }
   ],
   "source": [
    "cities\n"
   ]
  },
  {
   "cell_type": "markdown",
   "id": "d07e34d9",
   "metadata": {},
   "source": [
    "### Extend function\n"
   ]
  },
  {
   "cell_type": "code",
   "execution_count": 56,
   "id": "3a9f5a13",
   "metadata": {},
   "outputs": [
    {
     "data": {
      "text/plain": [
       "[42.98, 77, [8, 69]]"
      ]
     },
     "execution_count": 56,
     "metadata": {},
     "output_type": "execute_result"
    }
   ],
   "source": [
    "lst1 = [42, 98,77]\n",
    "lst2 = [8, 69]\n",
    "lst1.append(lst2)\n",
    "lst1\n"
   ]
  },
  {
   "cell_type": "code",
   "execution_count": 58,
   "id": "823f9c32",
   "metadata": {},
   "outputs": [
    {
     "data": {
      "text/plain": [
       "[42, 98, 77, 8, 69]"
      ]
     },
     "execution_count": 58,
     "metadata": {},
     "output_type": "execute_result"
    }
   ],
   "source": [
    "lst1 = [42, 98,77]\n",
    "lst2 = [8, 69]\n",
    "lst1.extend(lst2)\n",
    "lst1\n"
   ]
  },
  {
   "cell_type": "code",
   "execution_count": 60,
   "id": "bf3ee0f1",
   "metadata": {},
   "outputs": [
    {
     "data": {
      "text/plain": [
       "['a', 'b', 'c', 'd', 'P', 'y', 't', 'h', 'o', 'n']"
      ]
     },
     "execution_count": 60,
     "metadata": {},
     "output_type": "execute_result"
    }
   ],
   "source": [
    "charList = [\"a\", \"b\", \"c\",\"d\"]\n",
    "programming_language = \"Python\"  #by default iterate through and add to list\n",
    "charList.extend(programming_language)\n",
    "charList"
   ]
  },
  {
   "cell_type": "code",
   "execution_count": 63,
   "id": "0ce24427",
   "metadata": {},
   "outputs": [
    {
     "data": {
      "text/plain": [
       "[42, 98, 77, [5, 6, [7, 8, [9, 10]]]]"
      ]
     },
     "execution_count": 63,
     "metadata": {},
     "output_type": "execute_result"
    }
   ],
   "source": [
    "lst1 = [42, 98,77]\n",
    "lst2 = [5,6,[7, 8,[9,10]]] #it will only iterate through one level\n",
    "lst1.append(lst2)\n",
    "lst1\n"
   ]
  },
  {
   "cell_type": "code",
   "execution_count": 64,
   "id": "d9de448b",
   "metadata": {},
   "outputs": [
    {
     "data": {
      "text/plain": [
       "[42, 98, 77, 5, 6, [7, 8, [9, 10]]]"
      ]
     },
     "execution_count": 64,
     "metadata": {},
     "output_type": "execute_result"
    }
   ],
   "source": [
    "lst1 = [42, 98,77]\n",
    "lst2 = [5,6,[7, 8,[9,10]]] #it will only iterate through one level\n",
    "lst1.extend(lst2)\n",
    "lst1"
   ]
  },
  {
   "cell_type": "markdown",
   "id": "23720d1a",
   "metadata": {},
   "source": [
    "### Tuple example"
   ]
  },
  {
   "cell_type": "code",
   "execution_count": 65,
   "id": "938cbcc7",
   "metadata": {},
   "outputs": [
    {
     "data": {
      "text/plain": [
       "['java', 'c', 'python', 'C#', 'jython', 'python', 'ironThon']"
      ]
     },
     "execution_count": 65,
     "metadata": {},
     "output_type": "execute_result"
    }
   ],
   "source": [
    "languages = [\"java\",\"c\",\"python\"]\n",
    "t = (\"C#\",\"jython\",\"python\",\"ironThon\")\n",
    "languages.extend(t)\n",
    "languages\n"
   ]
  },
  {
   "cell_type": "code",
   "execution_count": 67,
   "id": "4252a242",
   "metadata": {},
   "outputs": [
    {
     "data": {
      "text/plain": [
       "['java', 'c', 'python', 'C#', 'jython']"
      ]
     },
     "execution_count": 67,
     "metadata": {},
     "output_type": "execute_result"
    }
   ],
   "source": [
    "languages.pop()\n",
    "languages"
   ]
  },
  {
   "cell_type": "markdown",
   "id": "d520d240",
   "metadata": {},
   "source": [
    "### This example is to measure speed and performance\n",
    "* in the following example, we will compare the different approaches and calculate their run times.  To understand the following program, you need to know that the time.time() returns a float number, the time in seconds.\n",
    "    * comparing operator, augmented assignment (+=, *=, etc) and append function (fastest processing)"
   ]
  },
  {
   "cell_type": "code",
   "execution_count": 69,
   "id": "f65043b2",
   "metadata": {},
   "outputs": [
    {
     "name": "stdout",
     "output_type": "stream",
     "text": [
      "14.247437000274658\n"
     ]
    }
   ],
   "source": [
    "import time\n",
    "n = 100000\n",
    "start_time = time.time()\n",
    "l = []\n",
    "for i in range(n):\n",
    "    l = l + [i*2]  # concatination operator and others (*,+,**2, etc) , slowest solution\n",
    "print(time.time() - start_time)\n",
    "print(l)"
   ]
  },
  {
   "cell_type": "code",
   "execution_count": 70,
   "id": "2269c05b",
   "metadata": {},
   "outputs": [
    {
     "name": "stdout",
     "output_type": "stream",
     "text": [
      "0.013500690460205078\n"
     ]
    }
   ],
   "source": [
    "start_time = time.time()\n",
    "for i in range(n):\n",
    "    l += [i*2] # Augumented Assignment Operation\n",
    "print(time.time() - start_time)\n",
    "#print(l)"
   ]
  },
  {
   "cell_type": "markdown",
   "id": "c51051a2",
   "metadata": {},
   "source": [
    "#### the more functions you use the better it is.  Functions have processor priority"
   ]
  },
  {
   "cell_type": "code",
   "execution_count": 73,
   "id": "f853c74e",
   "metadata": {},
   "outputs": [
    {
     "name": "stdout",
     "output_type": "stream",
     "text": [
      "0.010294914245605469\n"
     ]
    }
   ],
   "source": [
    "start_time = time.time()\n",
    "for i in range(n):\n",
    "    l.append(i*2)   #append function\n",
    "print(time.time() - start_time)\n",
    "#print(l)"
   ]
  },
  {
   "cell_type": "code",
   "execution_count": null,
   "id": "2054a683",
   "metadata": {},
   "outputs": [],
   "source": []
  }
 ],
 "metadata": {
  "kernelspec": {
   "display_name": "Python 3 (ipykernel)",
   "language": "python",
   "name": "python3"
  },
  "language_info": {
   "codemirror_mode": {
    "name": "ipython",
    "version": 3
   },
   "file_extension": ".py",
   "mimetype": "text/x-python",
   "name": "python",
   "nbconvert_exporter": "python",
   "pygments_lexer": "ipython3",
   "version": "3.11.4"
  }
 },
 "nbformat": 4,
 "nbformat_minor": 5
}
